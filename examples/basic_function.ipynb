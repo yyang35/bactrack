{
 "cells": [
  {
   "cell_type": "markdown",
   "metadata": {},
   "source": [
    "## Run bactrack \n",
    "- Computer segementation Hierarchies for all frames\n",
    "- Run tracking on Hierarchies\n",
    "  - Choose a weight function for linking\n",
    "  - Choose a solver for mip solving\n",
    "- Output/store the result"
   ]
  },
  {
   "cell_type": "markdown",
   "metadata": {},
   "source": [
    "1. Computer segementation Hierarchies by choosing hypermodel, and submodel "
   ]
  },
  {
   "cell_type": "code",
   "execution_count": null,
   "metadata": {},
   "outputs": [],
   "source": [
    "from bactrack.core import compute_hierarchy\n",
    "dir = \"/Users/sherryyang/Documents/wiggins-lab/data/data_master/data6\"\n",
    "# chose hypermodel between Cellpose and Omnipose\n",
    "# chose submodel under instruction of hypermodel\n",
    "hier_arr = compute_hierarchy(dir, submodel= 'bact_phase_omni')"
   ]
  },
  {
   "cell_type": "markdown",
   "metadata": {},
   "source": [
    "2. Run tracking \n",
    "  - choose a weight function you would like to use"
   ]
  },
  {
   "cell_type": "markdown",
   "metadata": {},
   "source": [
    "- Choose a MIP Solver you would like to use\n",
    "   - MIPSolver = python_mip repo: CBC, GUROBI\n",
    "   - ScipySolver = scipy.optimize.milp: HiGHS "
   ]
  },
  {
   "cell_type": "code",
   "execution_count": null,
   "metadata": {},
   "outputs": [],
   "source": [
    "from bactrack import run_tracking\n",
    "# weight_names = ['overlap_weight', 'distance_weight', 'iou_weight']\n",
    "# solver_names = ['scipy_solver', 'mip_solver']\n",
    "n, e = run_tracking(hier_arr, weight_name='overlap_weight', solver_name = \"scipy_solver\")"
   ]
  },
  {
   "cell_type": "markdown",
   "metadata": {},
   "source": [
    "3.  Output/store the result \n",
    "- Output result in dataframes, and make selected segementation result into a mask array"
   ]
  },
  {
   "cell_type": "code",
   "execution_count": null,
   "metadata": {},
   "outputs": [],
   "source": [
    "from bactrack import io\n",
    "# m is a mask array including all output masks\n",
    "# e is a edge dataframe\n",
    "# also selected cell in  hier_arr be marked in this function\n",
    "m, e = io.format_output(hier_arr, n, e)\n",
    "# now n is  a node dataframe\n",
    "n = io.hiers_to_df(hier_arr)"
   ]
  },
  {
   "cell_type": "markdown",
   "metadata": {},
   "source": [
    "- Store resuslt\n",
    "  - For dataframes: feel free to call any dataframe store function to store the data in the format you want, to_pickle is good to maintain the data type. \n",
    "  - For mask array do store_mask\n"
   ]
  },
  {
   "cell_type": "code",
   "execution_count": null,
   "metadata": {},
   "outputs": [],
   "source": [
    "import os\n",
    "\n",
    "root_dir = os.getcwd()\n",
    "\n",
    "n.to_pickle(os.path.join(root_dir, \"nodes.pkl\"))\n",
    "e.to_pickle(os.path.join(root_dir, \"edges.pkl\"))\n",
    "io.store_mask_arr(os.path.join(root_dir, \"masks\"))"
   ]
  }
 ],
 "metadata": {
  "kernelspec": {
   "display_name": "omnipose-track",
   "language": "python",
   "name": "python3"
  },
  "language_info": {
   "name": "python",
   "version": "3.10.12"
  },
  "orig_nbformat": 4
 },
 "nbformat": 4,
 "nbformat_minor": 2
}
