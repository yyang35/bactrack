{
 "cells": [
  {
   "cell_type": "markdown",
   "metadata": {},
   "source": [
    "## Run bactrack \n",
    "- Computer segementation Hierarchies for all frames\n",
    "- Run tracking on Hierarchies\n",
    "  - Choose a weight function for linking\n",
    "  - Choose a solver for mip solving\n",
    "- Output/store the result"
   ]
  },
  {
   "cell_type": "markdown",
   "metadata": {},
   "source": [
    "1. Computer segementation Hierarchies by choosing hypermodel, and submodel "
   ]
  },
  {
   "cell_type": "code",
<<<<<<< HEAD
   "execution_count": 2,
   "metadata": {},
   "outputs": [
    {
     "name": "stdout",
     "output_type": "stream",
     "text": [
      "2024-03-13 17:13:41,833 [INFO] ** TORCH GPU version installed and working. **\n",
      "2024-03-13 17:13:41,834 [INFO] >>bact_phase_omni<< model set to be used\n",
      "2024-03-13 17:13:41,837 [INFO] ** TORCH GPU version installed and working. **\n",
      "2024-03-13 17:13:41,838 [INFO] >>>> using GPU\n"
     ]
    },
    {
     "data": {
      "application/vnd.jupyter.widget-view+json": {
       "model_id": "ac5cc0dfbe5e4039ab301ebe168cfb67",
       "version_major": 2,
       "version_minor": 0
      },
      "text/plain": [
       "  0%|          | 0/33 [00:00<?, ?it/s]"
      ]
     },
     "metadata": {},
     "output_type": "display_data"
    },
    {
     "name": "stdout",
     "output_type": "stream",
     "text": [
      "2024-03-13 17:13:43,509 [INFO] Running on tiles. Now normalizing each tile separately.\n",
      "2024-03-13 17:13:59,761 [INFO] Running on tiles. Now normalizing each tile separately.\n",
      "2024-03-13 17:14:07,266 [INFO] Running on tiles. Now normalizing each tile separately.\n",
      "2024-03-13 17:14:14,484 [INFO] Running on tiles. Now normalizing each tile separately.\n",
      "2024-03-13 17:14:21,840 [INFO] Running on tiles. Now normalizing each tile separately.\n",
      "2024-03-13 17:14:29,317 [INFO] Running on tiles. Now normalizing each tile separately.\n",
      "2024-03-13 17:14:36,550 [INFO] Running on tiles. Now normalizing each tile separately.\n",
      "2024-03-13 17:14:43,642 [INFO] Running on tiles. Now normalizing each tile separately.\n",
      "2024-03-13 17:14:50,723 [INFO] Running on tiles. Now normalizing each tile separately.\n",
      "2024-03-13 17:14:57,544 [INFO] Running on tiles. Now normalizing each tile separately.\n",
      "2024-03-13 17:15:04,415 [INFO] Running on tiles. Now normalizing each tile separately.\n",
      "2024-03-13 17:15:11,151 [INFO] Running on tiles. Now normalizing each tile separately.\n",
      "2024-03-13 17:15:17,919 [INFO] Running on tiles. Now normalizing each tile separately.\n",
      "2024-03-13 17:15:24,634 [INFO] Running on tiles. Now normalizing each tile separately.\n",
      "2024-03-13 17:15:31,501 [INFO] Running on tiles. Now normalizing each tile separately.\n",
      "2024-03-13 17:15:38,193 [INFO] Running on tiles. Now normalizing each tile separately.\n",
      "2024-03-13 17:15:44,996 [INFO] Running on tiles. Now normalizing each tile separately.\n",
      "2024-03-13 17:15:51,950 [INFO] Running on tiles. Now normalizing each tile separately.\n",
      "2024-03-13 17:15:58,789 [INFO] Running on tiles. Now normalizing each tile separately.\n",
      "2024-03-13 17:16:05,651 [INFO] Running on tiles. Now normalizing each tile separately.\n",
      "2024-03-13 17:16:12,371 [INFO] Running on tiles. Now normalizing each tile separately.\n",
      "2024-03-13 17:16:19,116 [INFO] Running on tiles. Now normalizing each tile separately.\n",
      "2024-03-13 17:16:25,844 [INFO] Running on tiles. Now normalizing each tile separately.\n",
      "2024-03-13 17:16:32,772 [INFO] Running on tiles. Now normalizing each tile separately.\n",
      "2024-03-13 17:16:39,591 [INFO] Running on tiles. Now normalizing each tile separately.\n",
      "2024-03-13 17:16:47,533 [INFO] Running on tiles. Now normalizing each tile separately.\n",
      "2024-03-13 17:17:34,461 [INFO] Running on tiles. Now normalizing each tile separately.\n",
      "2024-03-13 17:17:43,979 [INFO] Running on tiles. Now normalizing each tile separately.\n",
      "2024-03-13 17:17:52,280 [INFO] Running on tiles. Now normalizing each tile separately.\n",
      "2024-03-13 17:20:55,881 [INFO] Running on tiles. Now normalizing each tile separately.\n",
      "2024-03-13 17:21:11,060 [INFO] Running on tiles. Now normalizing each tile separately.\n",
      "2024-03-13 17:21:21,166 [INFO] Running on tiles. Now normalizing each tile separately.\n",
      "2 4 False False\n",
      "2024-03-13 17:21:30,153 [WARNING] input images do not match the expected number of dimensions (2) and channels (2) of model.\n",
      "2024-03-13 17:21:30,192 [INFO] multi-stack tiff read in as having 32 planes 4 channels\n"
     ]
    },
    {
     "ename": "NameError",
     "evalue": "name 'show_progress' is not defined",
     "output_type": "error",
     "traceback": [
      "\u001b[0;31m---------------------------------------------------------------------------\u001b[0m",
      "\u001b[0;31mNameError\u001b[0m                                 Traceback (most recent call last)",
      "Cell \u001b[0;32mIn[2], line 5\u001b[0m\n\u001b[1;32m      2\u001b[0m \u001b[38;5;28mdir\u001b[39m \u001b[38;5;241m=\u001b[39m \u001b[38;5;124m\"\u001b[39m\u001b[38;5;124m/Users/sherryyang/Documents/wiggins-lab/data/data_master/data6\u001b[39m\u001b[38;5;124m\"\u001b[39m\n\u001b[1;32m      3\u001b[0m \u001b[38;5;66;03m# chose hypermodel between Cellpose and Omnipose\u001b[39;00m\n\u001b[1;32m      4\u001b[0m \u001b[38;5;66;03m# chose submodel under instruction of hypermodel\u001b[39;00m\n\u001b[0;32m----> 5\u001b[0m hier_arr \u001b[38;5;241m=\u001b[39m \u001b[43mcompute_hierarchy\u001b[49m\u001b[43m(\u001b[49m\u001b[38;5;28;43mdir\u001b[39;49m\u001b[43m,\u001b[49m\u001b[43m \u001b[49m\u001b[43msubmodel\u001b[49m\u001b[38;5;241;43m=\u001b[39;49m\u001b[43m \u001b[49m\u001b[38;5;124;43m'\u001b[39;49m\u001b[38;5;124;43mbact_phase_omni\u001b[39;49m\u001b[38;5;124;43m'\u001b[39;49m\u001b[43m)\u001b[49m\n",
      "File \u001b[0;32m~/Projects/bactrack/bactrack/core.py:61\u001b[0m, in \u001b[0;36mcompute_hierarchy\u001b[0;34m(data, hypermodel, chans, submodel)\u001b[0m\n\u001b[1;32m     59\u001b[0m params[\u001b[38;5;124m'\u001b[39m\u001b[38;5;124mcompute_masks\u001b[39m\u001b[38;5;124m'\u001b[39m] \u001b[38;5;241m=\u001b[39m \u001b[38;5;28;01mFalse\u001b[39;00m\n\u001b[1;32m     60\u001b[0m params[\u001b[38;5;124m'\u001b[39m\u001b[38;5;124mchannels\u001b[39m\u001b[38;5;124m'\u001b[39m] \u001b[38;5;241m=\u001b[39m chans\n\u001b[0;32m---> 61\u001b[0m _, flows, _ \u001b[38;5;241m=\u001b[39m \u001b[43mmodel\u001b[49m\u001b[38;5;241;43m.\u001b[39;49m\u001b[43meval\u001b[49m\u001b[43m(\u001b[49m\u001b[43mimags\u001b[49m\u001b[43m,\u001b[49m\u001b[43m \u001b[49m\u001b[38;5;241;43m*\u001b[39;49m\u001b[38;5;241;43m*\u001b[39;49m\u001b[43mparams\u001b[49m\u001b[43m)\u001b[49m\n\u001b[1;32m     63\u001b[0m core_logger\u001b[38;5;241m.\u001b[39minfo(\u001b[38;5;124m\"\u001b[39m\u001b[38;5;124mSegementation: predicting fields finish.\u001b[39m\u001b[38;5;124m\"\u001b[39m)\n\u001b[1;32m     65\u001b[0m \u001b[38;5;66;03m# Step2. base on predicted field, run dynamic integration, computer segementation hierarchy\u001b[39;00m\n",
      "File \u001b[0;32m~/Projects/omnipose/cellpose_omni/models.py:1021\u001b[0m, in \u001b[0;36mCellposeModel.eval\u001b[0;34m(self, x, batch_size, indices, channels, channel_axis, z_axis, normalize, invert, rescale, diameter, do_3D, anisotropy, net_avg, augment, tile, tile_overlap, bsize, num_workers, resample, interp, cluster, suppress, boundary_seg, affinity_seg, despur, flow_threshold, mask_threshold, diam_threshold, niter, cellprob_threshold, dist_threshold, flow_factor, compute_masks, min_size, max_size, stitch_threshold, progress, show_progress, omni, calc_trace, verbose, transparency, loop_run, model_loaded, hysteresis)\u001b[0m\n\u001b[1;32m   1015\u001b[0m rsc \u001b[38;5;241m=\u001b[39m rescale[i] \u001b[38;5;28;01mif\u001b[39;00m \u001b[38;5;28misinstance\u001b[39m(rescale, \u001b[38;5;28mlist\u001b[39m) \u001b[38;5;129;01mor\u001b[39;00m \u001b[38;5;28misinstance\u001b[39m(rescale, np\u001b[38;5;241m.\u001b[39mndarray) \u001b[38;5;28;01melse\u001b[39;00m rescale\n\u001b[1;32m   1016\u001b[0m chn \u001b[38;5;241m=\u001b[39m channels \u001b[38;5;28;01mif\u001b[39;00m channels \u001b[38;5;129;01mis\u001b[39;00m \u001b[38;5;28;01mNone\u001b[39;00m \u001b[38;5;28;01melse\u001b[39;00m channels[i] \u001b[38;5;28;01mif\u001b[39;00m (\u001b[38;5;28mlen\u001b[39m(channels)\u001b[38;5;241m==\u001b[39m\u001b[38;5;28mlen\u001b[39m(x) \u001b[38;5;129;01mand\u001b[39;00m \n\u001b[1;32m   1017\u001b[0m                                                         (\u001b[38;5;28misinstance\u001b[39m(channels[i], \u001b[38;5;28mlist\u001b[39m) \n\u001b[1;32m   1018\u001b[0m                                                          \u001b[38;5;129;01mor\u001b[39;00m \u001b[38;5;28misinstance\u001b[39m(channels[i], np\u001b[38;5;241m.\u001b[39mndarray)) \u001b[38;5;129;01mand\u001b[39;00m\n\u001b[1;32m   1019\u001b[0m                                                         \u001b[38;5;28mlen\u001b[39m(channels[i])\u001b[38;5;241m==\u001b[39m\u001b[38;5;241m2\u001b[39m) \u001b[38;5;28;01melse\u001b[39;00m channels\n\u001b[0;32m-> 1021\u001b[0m maski, stylei, flowi \u001b[38;5;241m=\u001b[39m \u001b[38;5;28;43mself\u001b[39;49m\u001b[38;5;241;43m.\u001b[39;49m\u001b[43meval\u001b[49m\u001b[43m(\u001b[49m\u001b[43mx\u001b[49m\u001b[43m[\u001b[49m\u001b[43mi\u001b[49m\u001b[43m]\u001b[49m\u001b[43m,\u001b[49m\u001b[43m \u001b[49m\n\u001b[1;32m   1022\u001b[0m \u001b[43m                                 \u001b[49m\u001b[43mbatch_size\u001b[49m\u001b[38;5;241;43m=\u001b[39;49m\u001b[43mbatch_size\u001b[49m\u001b[43m,\u001b[49m\u001b[43m \u001b[49m\n\u001b[1;32m   1023\u001b[0m \u001b[43m                                 \u001b[49m\u001b[43mchannels\u001b[49m\u001b[43m \u001b[49m\u001b[38;5;241;43m=\u001b[39;49m\u001b[43m \u001b[49m\u001b[43mchn\u001b[49m\u001b[43m,\u001b[49m\n\u001b[1;32m   1024\u001b[0m \u001b[43m                                 \u001b[49m\u001b[43mchannel_axis\u001b[49m\u001b[38;5;241;43m=\u001b[39;49m\u001b[43mchannel_axis\u001b[49m\u001b[43m,\u001b[49m\u001b[43m \u001b[49m\n\u001b[1;32m   1025\u001b[0m \u001b[43m                                 \u001b[49m\u001b[43mz_axis\u001b[49m\u001b[38;5;241;43m=\u001b[39;49m\u001b[43mz_axis\u001b[49m\u001b[43m,\u001b[49m\u001b[43m \u001b[49m\n\u001b[1;32m   1026\u001b[0m \u001b[43m                                 \u001b[49m\u001b[43mnormalize\u001b[49m\u001b[38;5;241;43m=\u001b[39;49m\u001b[43mnormalize\u001b[49m\u001b[43m,\u001b[49m\u001b[43m \u001b[49m\n\u001b[1;32m   1027\u001b[0m \u001b[43m                                 \u001b[49m\u001b[43minvert\u001b[49m\u001b[38;5;241;43m=\u001b[39;49m\u001b[43minvert\u001b[49m\u001b[43m,\u001b[49m\n\u001b[1;32m   1028\u001b[0m \u001b[43m                                 \u001b[49m\u001b[43mrescale\u001b[49m\u001b[38;5;241;43m=\u001b[39;49m\u001b[43mrsc\u001b[49m\u001b[43m,\u001b[49m\n\u001b[1;32m   1029\u001b[0m \u001b[43m                                 \u001b[49m\u001b[43mdiameter\u001b[49m\u001b[38;5;241;43m=\u001b[39;49m\u001b[43mdia\u001b[49m\u001b[43m,\u001b[49m\u001b[43m \u001b[49m\n\u001b[1;32m   1030\u001b[0m \u001b[43m                                 \u001b[49m\u001b[43mdo_3D\u001b[49m\u001b[38;5;241;43m=\u001b[39;49m\u001b[43mdo_3D\u001b[49m\u001b[43m,\u001b[49m\u001b[43m \u001b[49m\n\u001b[1;32m   1031\u001b[0m \u001b[43m                                 \u001b[49m\u001b[43manisotropy\u001b[49m\u001b[38;5;241;43m=\u001b[39;49m\u001b[43manisotropy\u001b[49m\u001b[43m,\u001b[49m\u001b[43m \u001b[49m\n\u001b[1;32m   1032\u001b[0m \u001b[43m                                 \u001b[49m\u001b[43mnet_avg\u001b[49m\u001b[38;5;241;43m=\u001b[39;49m\u001b[43mnet_avg\u001b[49m\u001b[43m,\u001b[49m\u001b[43m \u001b[49m\n\u001b[1;32m   1033\u001b[0m \u001b[43m                                 \u001b[49m\u001b[43maugment\u001b[49m\u001b[38;5;241;43m=\u001b[39;49m\u001b[43maugment\u001b[49m\u001b[43m,\u001b[49m\u001b[43m \u001b[49m\n\u001b[1;32m   1034\u001b[0m \u001b[43m                                 \u001b[49m\u001b[43mtile\u001b[49m\u001b[38;5;241;43m=\u001b[39;49m\u001b[43mtile\u001b[49m\u001b[43m,\u001b[49m\u001b[43m \u001b[49m\n\u001b[1;32m   1035\u001b[0m \u001b[43m                                 \u001b[49m\u001b[43mtile_overlap\u001b[49m\u001b[38;5;241;43m=\u001b[39;49m\u001b[43mtile_overlap\u001b[49m\u001b[43m,\u001b[49m\n\u001b[1;32m   1036\u001b[0m \u001b[43m                                 \u001b[49m\u001b[43mbsize\u001b[49m\u001b[38;5;241;43m=\u001b[39;49m\u001b[43mbsize\u001b[49m\u001b[43m,\u001b[49m\n\u001b[1;32m   1037\u001b[0m \u001b[43m                                 \u001b[49m\u001b[43mresample\u001b[49m\u001b[38;5;241;43m=\u001b[39;49m\u001b[43mresample\u001b[49m\u001b[43m,\u001b[49m\u001b[43m \u001b[49m\n\u001b[1;32m   1038\u001b[0m \u001b[43m                                 \u001b[49m\u001b[43minterp\u001b[49m\u001b[38;5;241;43m=\u001b[39;49m\u001b[43minterp\u001b[49m\u001b[43m,\u001b[49m\n\u001b[1;32m   1039\u001b[0m \u001b[43m                                 \u001b[49m\u001b[43mcluster\u001b[49m\u001b[38;5;241;43m=\u001b[39;49m\u001b[43mcluster\u001b[49m\u001b[43m,\u001b[49m\n\u001b[1;32m   1040\u001b[0m \u001b[43m                                 \u001b[49m\u001b[43msuppress\u001b[49m\u001b[38;5;241;43m=\u001b[39;49m\u001b[43msuppress\u001b[49m\u001b[43m,\u001b[49m\n\u001b[1;32m   1041\u001b[0m \u001b[43m                                 \u001b[49m\u001b[43mboundary_seg\u001b[49m\u001b[38;5;241;43m=\u001b[39;49m\u001b[43mboundary_seg\u001b[49m\u001b[43m,\u001b[49m\n\u001b[1;32m   1042\u001b[0m \u001b[43m                                 \u001b[49m\u001b[43maffinity_seg\u001b[49m\u001b[38;5;241;43m=\u001b[39;49m\u001b[43maffinity_seg\u001b[49m\u001b[43m,\u001b[49m\n\u001b[1;32m   1043\u001b[0m \u001b[43m                                 \u001b[49m\u001b[43mdespur\u001b[49m\u001b[38;5;241;43m=\u001b[39;49m\u001b[43mdespur\u001b[49m\u001b[43m,\u001b[49m\n\u001b[1;32m   1044\u001b[0m \u001b[43m                                 \u001b[49m\u001b[43mmask_threshold\u001b[49m\u001b[38;5;241;43m=\u001b[39;49m\u001b[43mmask_threshold\u001b[49m\u001b[43m,\u001b[49m\u001b[43m \u001b[49m\n\u001b[1;32m   1045\u001b[0m \u001b[43m                                 \u001b[49m\u001b[43mdiam_threshold\u001b[49m\u001b[38;5;241;43m=\u001b[39;49m\u001b[43mdiam_threshold\u001b[49m\u001b[43m,\u001b[49m\n\u001b[1;32m   1046\u001b[0m \u001b[43m                                 \u001b[49m\u001b[43mflow_threshold\u001b[49m\u001b[38;5;241;43m=\u001b[39;49m\u001b[43mflow_threshold\u001b[49m\u001b[43m,\u001b[49m\u001b[43m \u001b[49m\n\u001b[1;32m   1047\u001b[0m \u001b[43m                                 \u001b[49m\u001b[43mniter\u001b[49m\u001b[38;5;241;43m=\u001b[39;49m\u001b[43mniter\u001b[49m\u001b[43m,\u001b[49m\n\u001b[1;32m   1048\u001b[0m \u001b[43m                                 \u001b[49m\u001b[43mflow_factor\u001b[49m\u001b[38;5;241;43m=\u001b[39;49m\u001b[43mflow_factor\u001b[49m\u001b[43m,\u001b[49m\n\u001b[1;32m   1049\u001b[0m \u001b[43m                                 \u001b[49m\u001b[43mcompute_masks\u001b[49m\u001b[38;5;241;43m=\u001b[39;49m\u001b[43mcompute_masks\u001b[49m\u001b[43m,\u001b[49m\u001b[43m \u001b[49m\n\u001b[1;32m   1050\u001b[0m \u001b[43m                                 \u001b[49m\u001b[43mmin_size\u001b[49m\u001b[38;5;241;43m=\u001b[39;49m\u001b[43mmin_size\u001b[49m\u001b[43m,\u001b[49m\u001b[43m \u001b[49m\n\u001b[1;32m   1051\u001b[0m \u001b[43m                                 \u001b[49m\u001b[43mmax_size\u001b[49m\u001b[38;5;241;43m=\u001b[39;49m\u001b[43mmax_size\u001b[49m\u001b[43m,\u001b[49m\n\u001b[1;32m   1052\u001b[0m \u001b[43m                                 \u001b[49m\u001b[43mstitch_threshold\u001b[49m\u001b[38;5;241;43m=\u001b[39;49m\u001b[43mstitch_threshold\u001b[49m\u001b[43m,\u001b[49m\u001b[43m \u001b[49m\n\u001b[1;32m   1053\u001b[0m \u001b[43m                                 \u001b[49m\u001b[43mprogress\u001b[49m\u001b[38;5;241;43m=\u001b[39;49m\u001b[43mprogress\u001b[49m\u001b[43m,\u001b[49m\n\u001b[1;32m   1054\u001b[0m \u001b[43m                                 \u001b[49m\u001b[43mshow_progress\u001b[49m\u001b[38;5;241;43m=\u001b[39;49m\u001b[43mshow_progress\u001b[49m\u001b[43m,\u001b[49m\n\u001b[1;32m   1055\u001b[0m \u001b[43m                                 \u001b[49m\u001b[43momni\u001b[49m\u001b[38;5;241;43m=\u001b[39;49m\u001b[43momni\u001b[49m\u001b[43m,\u001b[49m\n\u001b[1;32m   1056\u001b[0m \u001b[43m                                 \u001b[49m\u001b[43mcalc_trace\u001b[49m\u001b[38;5;241;43m=\u001b[39;49m\u001b[43mcalc_trace\u001b[49m\u001b[43m,\u001b[49m\u001b[43m \u001b[49m\n\u001b[1;32m   1057\u001b[0m \u001b[43m                                 \u001b[49m\u001b[43mverbose\u001b[49m\u001b[38;5;241;43m=\u001b[39;49m\u001b[43mverbose\u001b[49m\u001b[43m,\u001b[49m\n\u001b[1;32m   1058\u001b[0m \u001b[43m                                 \u001b[49m\u001b[43mtransparency\u001b[49m\u001b[38;5;241;43m=\u001b[39;49m\u001b[43mtransparency\u001b[49m\u001b[43m,\u001b[49m\n\u001b[1;32m   1059\u001b[0m \u001b[43m                                 \u001b[49m\u001b[43mloop_run\u001b[49m\u001b[38;5;241;43m=\u001b[39;49m\u001b[43m(\u001b[49m\u001b[43mi\u001b[49m\u001b[38;5;241;43m>\u001b[39;49m\u001b[38;5;241;43m0\u001b[39;49m\u001b[43m)\u001b[49m\u001b[43m,\u001b[49m\n\u001b[1;32m   1060\u001b[0m \u001b[43m                                 \u001b[49m\u001b[43mmodel_loaded\u001b[49m\u001b[38;5;241;43m=\u001b[39;49m\u001b[43mmodel_loaded\u001b[49m\u001b[43m)\u001b[49m\n\u001b[1;32m   1061\u001b[0m masks\u001b[38;5;241m.\u001b[39mappend(maski)\n\u001b[1;32m   1062\u001b[0m flows\u001b[38;5;241m.\u001b[39mappend(flowi)\n",
      "File \u001b[0;32m~/Projects/omnipose/cellpose_omni/models.py:1099\u001b[0m, in \u001b[0;36mCellposeModel.eval\u001b[0;34m(self, x, batch_size, indices, channels, channel_axis, z_axis, normalize, invert, rescale, diameter, do_3D, anisotropy, net_avg, augment, tile, tile_overlap, bsize, num_workers, resample, interp, cluster, suppress, boundary_seg, affinity_seg, despur, flow_threshold, mask_threshold, diam_threshold, niter, cellprob_threshold, dist_threshold, flow_factor, compute_masks, min_size, max_size, stitch_threshold, progress, show_progress, omni, calc_trace, verbose, transparency, loop_run, model_loaded, hysteresis)\u001b[0m\n\u001b[1;32m   1096\u001b[0m rescale \u001b[38;5;241m=\u001b[39m \u001b[38;5;28mself\u001b[39m\u001b[38;5;241m.\u001b[39mdiam_mean \u001b[38;5;241m/\u001b[39m diameter \u001b[38;5;28;01mif\u001b[39;00m (rescale \u001b[38;5;129;01mis\u001b[39;00m \u001b[38;5;28;01mNone\u001b[39;00m \u001b[38;5;129;01mand\u001b[39;00m (diameter \u001b[38;5;129;01mis\u001b[39;00m \u001b[38;5;129;01mnot\u001b[39;00m \u001b[38;5;28;01mNone\u001b[39;00m \u001b[38;5;129;01mand\u001b[39;00m diameter\u001b[38;5;241m>\u001b[39m\u001b[38;5;241m0\u001b[39m)) \u001b[38;5;28;01melse\u001b[39;00m rescale\n\u001b[1;32m   1097\u001b[0m rescale \u001b[38;5;241m=\u001b[39m \u001b[38;5;241m1.0\u001b[39m \u001b[38;5;28;01mif\u001b[39;00m rescale \u001b[38;5;129;01mis\u001b[39;00m \u001b[38;5;28;01mNone\u001b[39;00m \u001b[38;5;28;01melse\u001b[39;00m rescale\n\u001b[0;32m-> 1099\u001b[0m masks, styles, dP, cellprob, p, bd, tr, affinity, bounds  \u001b[38;5;241m=\u001b[39m \u001b[38;5;28;43mself\u001b[39;49m\u001b[38;5;241;43m.\u001b[39;49m\u001b[43m_run_cp\u001b[49m\u001b[43m(\u001b[49m\u001b[43mx\u001b[49m\u001b[43m,\u001b[49m\u001b[43m \u001b[49m\n\u001b[1;32m   1100\u001b[0m \u001b[43m                                                                          \u001b[49m\u001b[43mcompute_masks\u001b[49m\u001b[38;5;241;43m=\u001b[39;49m\u001b[43mcompute_masks\u001b[49m\u001b[43m,\u001b[49m\n\u001b[1;32m   1101\u001b[0m \u001b[43m                                                                          \u001b[49m\u001b[43mnormalize\u001b[49m\u001b[38;5;241;43m=\u001b[39;49m\u001b[43mnormalize\u001b[49m\u001b[43m,\u001b[49m\n\u001b[1;32m   1102\u001b[0m \u001b[43m                                                                          \u001b[49m\u001b[43minvert\u001b[49m\u001b[38;5;241;43m=\u001b[39;49m\u001b[43minvert\u001b[49m\u001b[43m,\u001b[49m\n\u001b[1;32m   1103\u001b[0m \u001b[43m                                                                          \u001b[49m\u001b[43mrescale\u001b[49m\u001b[38;5;241;43m=\u001b[39;49m\u001b[43mrescale\u001b[49m\u001b[43m,\u001b[49m\u001b[43m \u001b[49m\n\u001b[1;32m   1104\u001b[0m \u001b[43m                                                                          \u001b[49m\u001b[43mnet_avg\u001b[49m\u001b[38;5;241;43m=\u001b[39;49m\u001b[43mnet_avg\u001b[49m\u001b[43m,\u001b[49m\u001b[43m \u001b[49m\n\u001b[1;32m   1105\u001b[0m \u001b[43m                                                                          \u001b[49m\u001b[43mresample\u001b[49m\u001b[38;5;241;43m=\u001b[39;49m\u001b[43mresample\u001b[49m\u001b[43m,\u001b[49m\n\u001b[1;32m   1106\u001b[0m \u001b[43m                                                                          \u001b[49m\u001b[43maugment\u001b[49m\u001b[38;5;241;43m=\u001b[39;49m\u001b[43maugment\u001b[49m\u001b[43m,\u001b[49m\u001b[43m \u001b[49m\n\u001b[1;32m   1107\u001b[0m \u001b[43m                                                                          \u001b[49m\u001b[43mtile\u001b[49m\u001b[38;5;241;43m=\u001b[39;49m\u001b[43mtile\u001b[49m\u001b[43m,\u001b[49m\u001b[43m \u001b[49m\n\u001b[1;32m   1108\u001b[0m \u001b[43m                                                                          \u001b[49m\u001b[43mtile_overlap\u001b[49m\u001b[38;5;241;43m=\u001b[39;49m\u001b[43mtile_overlap\u001b[49m\u001b[43m,\u001b[49m\n\u001b[1;32m   1109\u001b[0m \u001b[43m                                                                          \u001b[49m\u001b[43mbsize\u001b[49m\u001b[38;5;241;43m=\u001b[39;49m\u001b[43mbsize\u001b[49m\u001b[43m,\u001b[49m\n\u001b[1;32m   1110\u001b[0m \u001b[43m                                                                          \u001b[49m\u001b[43mmask_threshold\u001b[49m\u001b[38;5;241;43m=\u001b[39;49m\u001b[43mmask_threshold\u001b[49m\u001b[43m,\u001b[49m\u001b[43m \u001b[49m\n\u001b[1;32m   1111\u001b[0m \u001b[43m                                                                          \u001b[49m\u001b[43mdiam_threshold\u001b[49m\u001b[38;5;241;43m=\u001b[39;49m\u001b[43mdiam_threshold\u001b[49m\u001b[43m,\u001b[49m\n\u001b[1;32m   1112\u001b[0m \u001b[43m                                                                          \u001b[49m\u001b[43mflow_threshold\u001b[49m\u001b[38;5;241;43m=\u001b[39;49m\u001b[43mflow_threshold\u001b[49m\u001b[43m,\u001b[49m\n\u001b[1;32m   1113\u001b[0m \u001b[43m                                                                          \u001b[49m\u001b[43mniter\u001b[49m\u001b[38;5;241;43m=\u001b[39;49m\u001b[43mniter\u001b[49m\u001b[43m,\u001b[49m\n\u001b[1;32m   1114\u001b[0m \u001b[43m                                                                          \u001b[49m\u001b[43mflow_factor\u001b[49m\u001b[38;5;241;43m=\u001b[39;49m\u001b[43mflow_factor\u001b[49m\u001b[43m,\u001b[49m\n\u001b[1;32m   1115\u001b[0m \u001b[43m                                                                          \u001b[49m\u001b[43minterp\u001b[49m\u001b[38;5;241;43m=\u001b[39;49m\u001b[43minterp\u001b[49m\u001b[43m,\u001b[49m\n\u001b[1;32m   1116\u001b[0m \u001b[43m                                                                          \u001b[49m\u001b[43mcluster\u001b[49m\u001b[38;5;241;43m=\u001b[39;49m\u001b[43mcluster\u001b[49m\u001b[43m,\u001b[49m\n\u001b[1;32m   1117\u001b[0m \u001b[43m                                                                          \u001b[49m\u001b[43msuppress\u001b[49m\u001b[38;5;241;43m=\u001b[39;49m\u001b[43msuppress\u001b[49m\u001b[43m,\u001b[49m\n\u001b[1;32m   1118\u001b[0m \u001b[43m                                                                          \u001b[49m\u001b[43mboundary_seg\u001b[49m\u001b[38;5;241;43m=\u001b[39;49m\u001b[43mboundary_seg\u001b[49m\u001b[43m,\u001b[49m\u001b[43m  \u001b[49m\n\u001b[1;32m   1119\u001b[0m \u001b[43m                                                                          \u001b[49m\u001b[43maffinity_seg\u001b[49m\u001b[38;5;241;43m=\u001b[39;49m\u001b[43maffinity_seg\u001b[49m\u001b[43m,\u001b[49m\n\u001b[1;32m   1120\u001b[0m \u001b[43m                                                                          \u001b[49m\u001b[43mdespur\u001b[49m\u001b[38;5;241;43m=\u001b[39;49m\u001b[43mdespur\u001b[49m\u001b[43m,\u001b[49m\n\u001b[1;32m   1121\u001b[0m \u001b[43m                                                                          \u001b[49m\u001b[43mmin_size\u001b[49m\u001b[38;5;241;43m=\u001b[39;49m\u001b[43mmin_size\u001b[49m\u001b[43m,\u001b[49m\u001b[43m \u001b[49m\n\u001b[1;32m   1122\u001b[0m \u001b[43m                                                                          \u001b[49m\u001b[43mmax_size\u001b[49m\u001b[38;5;241;43m=\u001b[39;49m\u001b[43mmax_size\u001b[49m\u001b[43m,\u001b[49m\n\u001b[1;32m   1123\u001b[0m \u001b[43m                                                                          \u001b[49m\u001b[43mdo_3D\u001b[49m\u001b[38;5;241;43m=\u001b[39;49m\u001b[43mdo_3D\u001b[49m\u001b[43m,\u001b[49m\u001b[43m \u001b[49m\n\u001b[1;32m   1124\u001b[0m \u001b[43m                                                                          \u001b[49m\u001b[43manisotropy\u001b[49m\u001b[38;5;241;43m=\u001b[39;49m\u001b[43manisotropy\u001b[49m\u001b[43m,\u001b[49m\n\u001b[1;32m   1125\u001b[0m \u001b[43m                                                                          \u001b[49m\u001b[43mstitch_threshold\u001b[49m\u001b[38;5;241;43m=\u001b[39;49m\u001b[43mstitch_threshold\u001b[49m\u001b[43m,\u001b[49m\n\u001b[1;32m   1126\u001b[0m \u001b[43m                                                                          \u001b[49m\u001b[43momni\u001b[49m\u001b[38;5;241;43m=\u001b[39;49m\u001b[43momni\u001b[49m\u001b[43m,\u001b[49m\n\u001b[1;32m   1127\u001b[0m \u001b[43m                                                                          \u001b[49m\u001b[43mcalc_trace\u001b[49m\u001b[38;5;241;43m=\u001b[39;49m\u001b[43mcalc_trace\u001b[49m\u001b[43m,\u001b[49m\n\u001b[1;32m   1128\u001b[0m \u001b[43m                                                                          \u001b[49m\u001b[43mverbose\u001b[49m\u001b[38;5;241;43m=\u001b[39;49m\u001b[43mverbose\u001b[49m\u001b[43m)\u001b[49m\n\u001b[1;32m   1130\u001b[0m \u001b[38;5;66;03m# the flow list stores: \u001b[39;00m\n\u001b[1;32m   1131\u001b[0m \u001b[38;5;66;03m# (1) RGB representation of flows\u001b[39;00m\n\u001b[1;32m   1132\u001b[0m \u001b[38;5;66;03m# (2) flow components\u001b[39;00m\n\u001b[0;32m   (...)\u001b[0m\n\u001b[1;32m   1139\u001b[0m \n\u001b[1;32m   1140\u001b[0m \u001b[38;5;66;03m# 5-8 were added in Omnipose, hence the unusual placement in the list. \u001b[39;00m\n\u001b[1;32m   1141\u001b[0m flows \u001b[38;5;241m=\u001b[39m [plot\u001b[38;5;241m.\u001b[39mdx_to_circ(dP,transparency\u001b[38;5;241m=\u001b[39mtransparency) \n\u001b[1;32m   1142\u001b[0m          \u001b[38;5;28;01mif\u001b[39;00m \u001b[38;5;28mself\u001b[39m\u001b[38;5;241m.\u001b[39mnclasses\u001b[38;5;241m>\u001b[39m\u001b[38;5;241m1\u001b[39m \u001b[38;5;28;01melse\u001b[39;00m np\u001b[38;5;241m.\u001b[39mzeros(cellprob\u001b[38;5;241m.\u001b[39mshape\u001b[38;5;241m+\u001b[39m(\u001b[38;5;241m3\u001b[39m\u001b[38;5;241m+\u001b[39mtransparency,),np\u001b[38;5;241m.\u001b[39muint8),\n\u001b[1;32m   1143\u001b[0m          dP, cellprob, p, bd, tr, affinity, bounds]\n",
      "File \u001b[0;32m~/Projects/omnipose/cellpose_omni/models.py:1190\u001b[0m, in \u001b[0;36mCellposeModel._run_cp\u001b[0;34m(self, x, compute_masks, normalize, invert, rescale, net_avg, resample, augment, tile, tile_overlap, bsize, mask_threshold, diam_threshold, flow_threshold, niter, flow_factor, min_size, max_size, interp, cluster, suppress, boundary_seg, affinity_seg, despur, anisotropy, do_3D, stitch_threshold, omni, calc_trace, verbose, pad)\u001b[0m\n\u001b[1;32m   1188\u001b[0m \u001b[38;5;28;01melse\u001b[39;00m:\n\u001b[1;32m   1189\u001b[0m     tqdm_out \u001b[38;5;241m=\u001b[39m utils\u001b[38;5;241m.\u001b[39mTqdmToLogger(models_logger, level\u001b[38;5;241m=\u001b[39mlogging\u001b[38;5;241m.\u001b[39mINFO,)\n\u001b[0;32m-> 1190\u001b[0m     iterator \u001b[38;5;241m=\u001b[39m trange(nimg, file\u001b[38;5;241m=\u001b[39mtqdm_out, disable\u001b[38;5;241m=\u001b[39m\u001b[38;5;129;01mnot\u001b[39;00m \u001b[43mshow_progress\u001b[49m) \u001b[38;5;28;01mif\u001b[39;00m nimg\u001b[38;5;241m>\u001b[39m\u001b[38;5;241m1\u001b[39m \u001b[38;5;28;01melse\u001b[39;00m \u001b[38;5;28mrange\u001b[39m(nimg)\n\u001b[1;32m   1191\u001b[0m     styles \u001b[38;5;241m=\u001b[39m np\u001b[38;5;241m.\u001b[39mzeros((nimg, \u001b[38;5;28mself\u001b[39m\u001b[38;5;241m.\u001b[39mnbase[\u001b[38;5;241m-\u001b[39m\u001b[38;5;241m1\u001b[39m]), np\u001b[38;5;241m.\u001b[39mfloat32)\n\u001b[1;32m   1193\u001b[0m     \u001b[38;5;66;03m#indexing a little weird here due to channels being last now \u001b[39;00m\n",
      "\u001b[0;31mNameError\u001b[0m: name 'show_progress' is not defined"
     ]
    }
   ],
=======
   "execution_count": null,
   "metadata": {},
   "outputs": [],
>>>>>>> main
   "source": [
    "from bactrack.core import compute_hierarchy\n",
    "dir = \"/Users/sherryyang/Documents/wiggins-lab/data/data_master/data6\"\n",
    "# chose hypermodel between Cellpose and Omnipose\n",
    "# chose submodel under instruction of hypermodel\n",
<<<<<<< HEAD
    "hier_arr = compute_hierarchy(dir, submodel= 'bact_phase_omni')"
=======
    "hier_arr = compute_hierarchy(dir,hypermodel='omnipose', submodel= 'bact_phase_omni')"
>>>>>>> main
   ]
  },
  {
   "cell_type": "markdown",
   "metadata": {},
   "source": [
    "2. Run tracking \n",
    "  - choose a weight function you would like to use"
   ]
  },
  {
   "cell_type": "code",
   "execution_count": null,
   "metadata": {},
   "outputs": [],
   "source": [
    "from bactrack.tracking import OverlapWeight, IOUWeight, DistanceWeight\n",
    "w =  DistanceWeight(hier_arr)"
   ]
  },
  {
   "cell_type": "markdown",
   "metadata": {},
   "source": [
    "- Choose a MIP Solver you would like to use\n",
    "   - MIPSolver = python_mip repo: CBC, GUROBI\n",
    "   - ScipySolver = scipy.optimize.milp: HiGHS "
   ]
  },
  {
   "cell_type": "code",
   "execution_count": null,
   "metadata": {},
   "outputs": [],
   "source": [
    "#   MIPSolver => python_mip repo: it includes two solvers: CBC and Gurobi\n",
    "#   ScipySolver => scipy.optimize.milp: it include HiGHS solvers\n",
    "\n",
    "# MIPSolver require conda environment and additional setup, so it not always avilable, you could use \n",
    "# ScipySolver instead\n",
    "from bactrack.tracking import MIPSolver, ScipySolver"
   ]
  },
  {
   "cell_type": "code",
   "execution_count": null,
   "metadata": {},
   "outputs": [],
   "source": [
    "# do solver = ScipySolver(w.weight_matrix, hier_arr, mask_penalty= w.mask_penalty)\n",
    "# if you want include a mask_penalty calculated by omnipose/cellpose mask threshold + flow threshold\n",
    "solver = ScipySolver(w.weight_matrix, hier_arr)\n",
    "\n",
    "# n is a list of all selected segementation\n",
    "# e is a scipy sparse matrix mark the edge be selected\n",
    "n, e = solver.solve()"
   ]
  },
  {
   "cell_type": "markdown",
   "metadata": {},
   "source": [
    "Instead of choose weight and solver manually, you could also do following, this give you same result as solver.solve()"
   ]
  },
  {
   "cell_type": "code",
   "execution_count": null,
   "metadata": {},
   "outputs": [],
   "source": [
    "from bactrack import run_tracking\n",
    "n, e = run_tracking(hier_arr, weight_name='overlap_weight', solver_name = \"scipy_solver\")"
   ]
  },
  {
   "cell_type": "markdown",
   "metadata": {},
   "source": [
    "3.  Output/store the result \n",
    "- Output result in dataframes, and make selected segementation result into a mask array"
   ]
  },
  {
   "cell_type": "code",
   "execution_count": null,
   "metadata": {},
   "outputs": [],
   "source": [
    "from bactrack import io\n",
    "# m is a mask array including all output masks\n",
    "# e is a edge dataframe\n",
    "# also selected cell in  hier_arr be marked in this function\n",
    "m, e = io.format_output(hier_arr, n, e)\n",
    "# now n is  a node dataframe\n",
    "n = io.hiers_to_df(hier_arr)"
   ]
  },
  {
   "cell_type": "markdown",
   "metadata": {},
   "source": [
    "- Store resuslt\n",
    "  - For dataframes: feel free to call any dataframe store function to store the data in the format you want, to_pickle is good to maintain the data type. \n",
    "  - For mask array do store_mask\n"
   ]
  },
  {
   "cell_type": "code",
   "execution_count": null,
   "metadata": {},
   "outputs": [],
   "source": [
    "root_dir = \"./\"\n",
    "n.to_pickle(root_dir + \"nodes.pkl\")\n",
    "e.to_pickle(root_dir + \"dges.pkl\")\n",
    "io.store_mask_arr(m, root_dir+\"masks\")"
   ]
  },
  {
   "cell_type": "markdown",
   "metadata": {},
   "source": []
  }
 ],
 "metadata": {
<<<<<<< HEAD
  "kernelspec": {
   "display_name": "omnipose-track",
   "language": "python",
   "name": "python3"
  },
  "language_info": {
   "codemirror_mode": {
    "name": "ipython",
    "version": 3
   },
   "file_extension": ".py",
   "mimetype": "text/x-python",
   "name": "python",
   "nbconvert_exporter": "python",
   "pygments_lexer": "ipython3",
   "version": "3.10.12"
=======
  "language_info": {
   "name": "python"
>>>>>>> main
  },
  "orig_nbformat": 4
 },
 "nbformat": 4,
 "nbformat_minor": 2
}
