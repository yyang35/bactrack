{
 "cells": [
  {
   "cell_type": "markdown",
   "metadata": {},
   "source": [
    "## Run bactrack \n",
    "- Computer segementation Hierarchies for all frames\n",
    "- Run tracking on Hierarchies\n",
    "  - Choose a weight function for linking\n",
    "  - Choose a solver for mip solving\n",
    "- Output/store the result"
   ]
  },
  {
   "cell_type": "markdown",
   "metadata": {},
   "source": [
    "1. Computer segementation Hierarchies by choosing hypermodel, and submodel "
   ]
  },
  {
   "cell_type": "code",
   "execution_count": null,
   "metadata": {},
   "outputs": [],
   "source": [
    "from bactrack.core import compute_hierarchy\n",
    "dir = \"/Users/sherryyang/Documents/wiggins-lab/data/data_master/data6\"\n",
    "# chose hypermodel between Cellpose and Omnipose\n",
    "# chose submodel under instruction of hypermodel\n",
    "hier_arr = compute_hierarchy(dir,hypermodel='omnipose', submodel= 'bact_phase_omni')"
   ]
  },
  {
   "cell_type": "markdown",
   "metadata": {},
   "source": [
    "2. Run tracking \n",
    "  - choose a weight function you would like to use"
   ]
  },
  {
   "cell_type": "code",
   "execution_count": null,
   "metadata": {},
   "outputs": [],
   "source": [
    "from bactrack.tracking import OverlapWeight, IOUWeight, DistanceWeight\n",
    "w =  DistanceWeight(hier_arr)"
   ]
  },
  {
   "cell_type": "markdown",
   "metadata": {},
   "source": [
    "- Choose a MIP Solver you would like to use\n",
    "   - MIPSolver = python_mip repo: CBC, GUROBI\n",
    "   - ScipySolver = scipy.optimize.milp: HiGHS "
   ]
  },
  {
   "cell_type": "code",
   "execution_count": null,
   "metadata": {},
   "outputs": [],
   "source": [
    "#   MIPSolver => python_mip repo: it includes two solvers: CBC and Gurobi\n",
    "#   ScipySolver => scipy.optimize.milp: it include HiGHS solvers\n",
    "\n",
    "# MIPSolver require conda environment and additional setup, so it not always avilable, you could use \n",
    "# ScipySolver instead\n",
    "from bactrack.tracking import MIPSolver, ScipySolver"
   ]
  },
  {
   "cell_type": "code",
   "execution_count": null,
   "metadata": {},
   "outputs": [],
   "source": [
    "# do solver = ScipySolver(w.weight_matrix, hier_arr, mask_penalty= w.mask_penalty)\n",
    "# if you want include a mask_penalty calculated by omnipose/cellpose mask threshold + flow threshold\n",
    "solver = ScipySolver(w.weight_matrix, hier_arr)\n",
    "\n",
    "# n is a list of all selected segementation\n",
    "# e is a scipy sparse matrix mark the edge be selected\n",
    "n, e = solver.solve()"
   ]
  },
  {
   "cell_type": "markdown",
   "metadata": {},
   "source": [
    "Instead of choose weight and solver manually, you could also do following, this give you same result as solver.solve()"
   ]
  },
  {
   "cell_type": "code",
   "execution_count": null,
   "metadata": {},
   "outputs": [],
   "source": [
    "from bactrack import run_tracking\n",
    "n, e = run_tracking(hier_arr, weight_name='overlap_weight', solver_name = \"scipy_solver\")"
   ]
  },
  {
   "cell_type": "markdown",
   "metadata": {},
   "source": [
    "3.  Output/store the result \n",
    "- Output result in dataframes, and make selected segementation result into a mask array"
   ]
  },
  {
   "cell_type": "code",
   "execution_count": null,
   "metadata": {},
   "outputs": [],
   "source": [
    "from bactrack import io\n",
    "# m is a mask array including all output masks\n",
    "# e is a edge dataframe\n",
    "# also selected cell in  hier_arr be marked in this function\n",
    "m, e = io.format_output(hier_arr, n, e)\n",
    "# now n is  a node dataframe\n",
    "n = io.hiers_to_df(hier_arr)"
   ]
  },
  {
   "cell_type": "markdown",
   "metadata": {},
   "source": [
    "- Store resuslt\n",
    "  - For dataframes: feel free to call any dataframe store function to store the data in the format you want, to_pickle is good to maintain the data type. \n",
    "  - For mask array do store_mask\n"
   ]
  },
  {
   "cell_type": "code",
   "execution_count": null,
   "metadata": {},
   "outputs": [],
   "source": [
    "root_dir = \"./\"\n",
    "n.to_pickle(root_dir + \"nodes.pkl\")\n",
    "e.to_pickle(root_dir + \"dges.pkl\")\n",
    "io.store_mask_arr(m, root_dir+\"masks\")"
   ]
  },
  {
   "cell_type": "markdown",
   "metadata": {},
   "source": []
  }
 ],
 "metadata": {
  "kernelspec": {
   "display_name": "omnipose-track",
   "language": "python",
   "name": "python3"
  },
  "language_info": {
   "name": "python",
   "version": "3.10.12"
  },
  "orig_nbformat": 4
 },
 "nbformat": 4,
 "nbformat_minor": 2
}
