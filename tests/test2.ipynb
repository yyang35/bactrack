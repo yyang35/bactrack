{
 "cells": [
  {
   "cell_type": "code",
   "execution_count": 1,
   "metadata": {},
   "outputs": [
    {
     "name": "stderr",
     "output_type": "stream",
     "text": [
      "/Users/sherryyang/anaconda3/envs/omnipose-track/lib/python3.10/site-packages/tqdm/auto.py:21: TqdmWarning: IProgress not found. Please update jupyter and ipywidgets. See https://ipywidgets.readthedocs.io/en/stable/user_install.html\n",
      "  from .autonotebook import tqdm as notebook_tqdm\n"
     ]
    },
    {
     "name": "stdout",
     "output_type": "stream",
     "text": [
      "2024-01-13 01:23:54,589 [INFO] ** TORCH GPU version installed and working. **\n",
      "2024-01-13 01:23:54,589 [INFO] >>bact_phase_omni<< model set to be used\n",
      "2024-01-13 01:23:54,590 [INFO] ** TORCH GPU version installed and working. **\n",
      "2024-01-13 01:23:54,591 [INFO] >>>> using GPU\n",
      "2024-01-13 01:23:54,886 [INFO] 0%|          | 0/3 [00:00<?, ?it/s]\n",
      "2024-01-13 01:24:05,886 [INFO] 33%|###3      | 1/3 [00:10<00:21, 11.00s/it]\n",
      "2024-01-13 01:24:12,570 [INFO] 67%|######6   | 2/3 [00:17<00:08,  8.46s/it]\n",
      "2024-01-13 01:24:19,144 [INFO] 100%|##########| 3/3 [00:24<00:00,  7.60s/it]\n",
      "2024-01-13 01:24:19,145 [INFO] 100%|##########| 3/3 [00:24<00:00,  8.09s/it]\n",
      "2024-01-13 01:24:19,145 [INFO] Segementation: predicting fields finish.\n",
      "2024-01-13 01:24:34,119 [INFO] Segementation hierarchy builded.\n"
     ]
    }
   ],
   "source": [
    "from trackdemo.core import compute_hierarchy, ModelEnum\n",
    "#dir =  \"/Users/sherryyang/Documents/wiggins-lab/data/data_master/data4/\"\n",
    "dir =  \"/Users/sherryyang/Documents/wiggins-lab/data/test_phase__\"\n",
    "hier_arr = compute_hierarchy(dir, hypermodel=ModelEnum.OMNIPOSE, submodel = 'bact_phase_omni')\n"
   ]
  },
  {
   "cell_type": "code",
   "execution_count": 2,
   "metadata": {},
   "outputs": [],
   "source": [
    "from trackdemo.feature import label_hierarchy_array, compute_segementation_metrics\n",
    "label_hierarchy_array(hier_arr)\n",
    "compute_segementation_metrics(hier_arr)"
   ]
  },
  {
   "cell_type": "code",
   "execution_count": null,
   "metadata": {},
   "outputs": [],
   "source": []
  },
  {
   "cell_type": "code",
   "execution_count": 3,
   "metadata": {},
   "outputs": [
    {
     "name": "stdout",
     "output_type": "stream",
     "text": [
      "(115.1599625818522, 741.1262862488306)\n",
      "(1452.2331125827814, 464.80066225165564)\n",
      "(421.84693303320205, 664.7658975801913)\n",
      "(1522.0866666666666, 975.5566666666666)\n",
      "(124.45054945054945, 696.6868131868132)\n",
      "(1677.8620689655172, 1340.396551724138)\n",
      "(1507.1170212765958, 2614.755319148936)\n",
      "(1718.3204508856684, 1977.816425120773)\n",
      "(1705.2815884476533, 1957.216606498195)\n",
      "(1650.9645308924485, 1948.1064073226544)\n",
      "(1627.2863849765258, 1959.3138832997988)\n",
      "(411.1929693343306, 675.8070306656695)\n",
      "(1215.5675675675675, 547.2972972972973)\n",
      "(1449.2914572864322, 491.6994974874372)\n",
      "(1518.2302383939775, 1106.2735257214554)\n",
      "(420.7615894039735, 1351.2582781456954)\n",
      "(1663.8838862559242, 1956.4052132701422)\n",
      "(1678.0, 1308.577922077922)\n",
      "(1636.8557213930349, 1971.4328358208954)\n",
      "(1514.581818181818, 1116.8575757575757)\n",
      "(1564.7692307692307, 2041.5844155844156)\n",
      "(1680.0294117647059, 1331.735294117647)\n",
      "(280.94780793319416, 657.5668058455115)\n",
      "(388.14285714285717, 636.7094430992736)\n",
      "(1737.1178743961352, 1981.1748792270532)\n",
      "(1560.1594036697247, 2043.0275229357799)\n",
      "(349.59831460674155, 677.3033707865169)\n",
      "(1521.9878571428571, 587.7835714285715)\n",
      "(364.8, 684.225)\n",
      "(1650.8465553235908, 1985.946764091858)\n",
      "(1666.157327586207, 1978.7047413793102)\n",
      "(1695.6883720930232, 1309.3767441860466)\n",
      "(31.767676767676768, 61.95959595959596)\n",
      "(447.0422993492408, 1346.9566160520608)\n",
      "(1635.311377245509, 1970.7784431137725)\n",
      "(519.3272727272728, 1336.387878787879)\n",
      "(1217.4285714285713, 563.0952380952381)\n",
      "(1454.16, 657.4966666666667)\n",
      "(125.03622047244095, 686.3448818897638)\n",
      "(1512.826139088729, 939.4076738609112)\n",
      "(1503.5258126195029, 904.5353728489483)\n",
      "(1520.021582733813, 1084.2176258992806)\n",
      "(1681.3053435114505, 1319.3740458015268)\n",
      "(1686.625, 1960.075)\n",
      "(1526.1333333333334, 587.01)\n",
      "(348.20625, 676.665625)\n",
      "(1464.5273631840796, 358.55223880597015)\n",
      "(1518.135593220339, 961.5762711864406)\n",
      "(500.9485714285714, 1339.9)\n",
      "(1739.9285714285713, 1962.704081632653)\n",
      "(1606.2225609756097, 1960.4329268292684)\n",
      "(383.11560693641616, 286.90751445086704)\n",
      "(452.189364461738, 1346.1141374837873)\n",
      "(1670.8896434634974, 1967.9898132427843)\n",
      "(1514.906976744186, 949.7209302325581)\n",
      "(1452.590909090909, 560.0984848484849)\n",
      "(495.2803738317757, 1340.9831775700934)\n",
      "(1213.8333333333333, 555.8333333333334)\n",
      "(1691.9333333333334, 1961.4444444444443)\n",
      "(1517.9406779661017, 961.3380414312618)\n",
      "(1461.776595744681, 370.86170212765956)\n",
      "(1689.4352941176471, 1960.8)\n",
      "(1714.593123209169, 1968.7765042979943)\n",
      "(1526.2222222222222, 1056.5833333333333)\n",
      "(1733.378761061947, 1982.0097345132742)\n",
      "(778.0152413209145, 1187.4436917866215)\n",
      "(387.9230769230769, 294.96153846153845)\n",
      "(1441.6522762951333, 581.7857142857143)\n",
      "(1684.6618705035971, 1969.5539568345323)\n",
      "(1389.2307692307693, 578.3846153846154)\n",
      "(1434.7259615384614, 1358.4951923076924)\n",
      "(1692.6421052631579, 1991.1052631578948)\n",
      "(1833.8709677419354, 1308.4516129032259)\n",
      "(1370.455652173913, 574.3773913043478)\n",
      "(1456.609589041096, 565.7431506849315)\n",
      "(1459.7560975609756, 376.0975609756098)\n",
      "(1738.3245614035088, 1972.859649122807)\n",
      "(1692.1703296703297, 1319.8076923076924)\n",
      "(1702.7083333333333, 1320.8541666666667)\n",
      "(1458.764705882353, 380.3382352941176)\n",
      "(1451.2322946175636, 541.1416430594901)\n",
      "(754.32, 1224.72)\n",
      "(420.9753086419753, 638.1378600823045)\n",
      "(1458.2125786163522, 382.0779874213836)\n",
      "(383.7437185929648, 287.95979899497485)\n",
      "(1516.357142857143, 954.3877551020408)\n",
      "(1912.1928338762216, 2398.8325732899025)\n",
      "(1434.0911350455676, 655.0538525269262)\n",
      "(569.9258395522388, 456.3204291044776)\n",
      "(1603.672131147541, 2612.05737704918)\n",
      "(1716.1469816272966, 1968.4671916010498)\n",
      "(408.9604233778187, 667.1780947998159)\n",
      "(1478.8591954022988, 581.8247126436781)\n",
      "(1447.5299145299145, 435.017094017094)\n",
      "(1213.5495495495495, 555.2612612612612)\n",
      "(1331.987012987013, 566.2613636363636)\n",
      "(1435.3895131086142, 575.7677902621723)\n",
      "(1091.143006263048, 1395.821503131524)\n",
      "(1584.17, 576.18)\n",
      "(1434.905109489051, 1361.7007299270074)\n",
      "(361.97222222222223, 682.9722222222222)\n",
      "(1638.8732394366198, 1946.2218309859154)\n",
      "(117.17665130568356, 1512.431643625192)\n",
      "(1645.21536351166, 2099.2098765432097)\n",
      "(1916.458064516129, 2396.869534050179)\n",
      "(1666.894439208294, 2032.975494816211)\n",
      "(1521.7564766839378, 1076.4857512953367)\n",
      "(168.62809099901088, 1474.455984174085)\n",
      "(122.35714285714286, 715.3516483516484)\n",
      "(454.2204545454546, 631.2159090909091)\n",
      "(470.306411837238, 1343.9112207151666)\n",
      "(154.47648136835676, 1495.0311545510078)\n",
      "(1689.0149253731342, 1336.2910447761194)\n",
      "(1513.290909090909, 944.3181818181819)\n",
      "(1686.75, 1328.2083333333333)\n",
      "(779.8664226898445, 1184.5882891125343)\n",
      "(1685.6458333333333, 1337.53125)\n",
      "(125.84074074074074, 672.3185185185185)\n",
      "(755.9473684210526, 1220.5263157894738)\n",
      "(344.35714285714283, 639.1513317191283)\n",
      "(172.6208445642408, 1473.0503144654087)\n",
      "(1657.3007518796992, 1976.5067669172931)\n",
      "(1449.799703264095, 504.64688427299706)\n",
      "(1437.2777777777778, 1359.0)\n",
      "(1210.84375, 563.71875)\n",
      "(1437.9333333333334, 1366.4666666666667)\n",
      "(1431.1, 1345.9)\n",
      "(1448.4530201342282, 424.4530201342282)\n",
      "(1482.8882554161917, 587.0395286963131)\n",
      "(342.3346999627283, 645.1673499813642)\n",
      "(1693.369850187266, 1967.6750936329588)\n",
      "(1350.55919395466, 570.1796809403862)\n",
      "(1515.1443089430895, 1145.9146341463415)\n",
      "(1599.4574780058651, 2592.9472140762464)\n",
      "(1166.4285714285713, 617.025974025974)\n",
      "(1703.310975609756, 1956.2652439024391)\n",
      "(1682.7888888888888, 1321.7555555555555)\n",
      "(1484.5, 2617.5263157894738)\n",
      "(1459.925, 570.4)\n",
      "(1600.5680345572355, 2597.9827213822896)\n",
      "(1435.6666666666667, 1354.8235294117646)\n",
      "(1505.987951807229, 878.5421686746988)\n",
      "(1434.7878787878788, 1352.5454545454545)\n",
      "(118.84037558685446, 720.711854460094)\n",
      "(1214.6455696202531, 551.8354430379746)\n",
      "(1692.6078431372548, 1951.0980392156862)\n",
      "(1707.9565217391305, 1400.2608695652175)\n",
      "(1426.3882352941177, 587.2832579185521)\n",
      "(1644.4411764705883, 1974.6470588235295)\n",
      "(113.68320180383314, 746.4148816234498)\n",
      "(1608.9942528735633, 2139.9597701149423)\n",
      "(1527.4674556213017, 992.2662721893491)\n",
      "(1636.3979289940828, 1946.0650887573966)\n",
      "(1629.4640226628894, 2098.5614730878187)\n",
      "(1688.0882352941176, 1949.3382352941176)\n",
      "(1658.5787781350482, 1966.5916398713825)\n",
      "(1733.09375, 1965.09375)\n",
      "(1623.529160739687, 1959.224039829303)\n",
      "(1595.9302325581396, 2031.8294573643411)\n",
      "(1431.241935483871, 1355.9354838709678)\n",
      "(1695.5119731800767, 1983.816091954023)\n",
      "(1869.692857142857, 2418.3928571428573)\n",
      "(1414.629213483146, 571.2284644194757)\n",
      "(1730.2142857142858, 1976.732142857143)\n",
      "(1454.3034825870648, 581.0149253731344)\n",
      "(1446.5714285714287, 445.98606271777004)\n",
      "(1414.2537067545304, 652.6392092257001)\n",
      "(212.19607843137254, 1459.1176470588234)\n",
      "(179.11573604060914, 1483.5441624365483)\n",
      "(1411.8155737704917, 1629.2795081967213)\n",
      "(1746.090909090909, 1967.939393939394)\n",
      "(1503.8630363036305, 900.9752475247525)\n",
      "(310.30661434977577, 649.0403587443947)\n",
      "(1709.078947368421, 1980.0933014354066)\n",
      "(1453.8516624040922, 397.7979539641944)\n",
      "(1447.7497691597414, 577.5687903970453)\n",
      "(1508.65625, 932.4642857142857)\n",
      "(1685.5395569620252, 1318.988924050633)\n"
     ]
    }
   ],
   "source": [
    "for node in hier_arr[0].all_nodes():\n",
    "    print(node.centroid)"
   ]
  },
  {
   "cell_type": "code",
   "execution_count": 4,
   "metadata": {},
   "outputs": [
    {
     "ename": "IntCastingNaNError",
     "evalue": "Cannot convert non-finite values (NA or inf) to integer",
     "output_type": "error",
     "traceback": [
      "\u001b[0;31m---------------------------------------------------------------------------\u001b[0m",
      "\u001b[0;31mIntCastingNaNError\u001b[0m                        Traceback (most recent call last)",
      "\u001b[1;32m/Users/sherryyang/Projects/trackdemo/tests/test2.ipynb Cell 5\u001b[0m line \u001b[0;36m1\n\u001b[0;32m----> <a href='vscode-notebook-cell:/Users/sherryyang/Projects/trackdemo/tests/test2.ipynb#Y102sZmlsZQ%3D%3D?line=0'>1</a>\u001b[0m df \u001b[39m=\u001b[39m hier_arr[\u001b[39m0\u001b[39;49m]\u001b[39m.\u001b[39;49mto_df()\n",
      "File \u001b[0;32m~/Projects/trackdemo/trackdemo/hierarchy.py:95\u001b[0m, in \u001b[0;36mHierarchy.to_df\u001b[0;34m(self)\u001b[0m\n\u001b[1;32m     93\u001b[0m node_dicts \u001b[39m=\u001b[39m [node\u001b[39m.\u001b[39mto_dict() \u001b[39mfor\u001b[39;00m node \u001b[39min\u001b[39;00m \u001b[39mself\u001b[39m\u001b[39m.\u001b[39mall_nodes(include_root\u001b[39m=\u001b[39m\u001b[39mTrue\u001b[39;00m)]\n\u001b[1;32m     94\u001b[0m df \u001b[39m=\u001b[39m pd\u001b[39m.\u001b[39mDataFrame(node_dicts)\n\u001b[0;32m---> 95\u001b[0m df[\u001b[39m'\u001b[39m\u001b[39mIndex\u001b[39m\u001b[39m'\u001b[39m] \u001b[39m=\u001b[39m df[\u001b[39m'\u001b[39;49m\u001b[39mIndex\u001b[39;49m\u001b[39m'\u001b[39;49m]\u001b[39m.\u001b[39;49mastype(\u001b[39mint\u001b[39;49m)\n\u001b[1;32m     96\u001b[0m \u001b[39mreturn\u001b[39;00m df\n",
      "File \u001b[0;32m~/anaconda3/envs/omnipose-track/lib/python3.10/site-packages/pandas/core/generic.py:6534\u001b[0m, in \u001b[0;36mNDFrame.astype\u001b[0;34m(self, dtype, copy, errors)\u001b[0m\n\u001b[1;32m   6530\u001b[0m     results \u001b[39m=\u001b[39m [ser\u001b[39m.\u001b[39mastype(dtype, copy\u001b[39m=\u001b[39mcopy) \u001b[39mfor\u001b[39;00m _, ser \u001b[39min\u001b[39;00m \u001b[39mself\u001b[39m\u001b[39m.\u001b[39mitems()]\n\u001b[1;32m   6532\u001b[0m \u001b[39melse\u001b[39;00m:\n\u001b[1;32m   6533\u001b[0m     \u001b[39m# else, only a single dtype is given\u001b[39;00m\n\u001b[0;32m-> 6534\u001b[0m     new_data \u001b[39m=\u001b[39m \u001b[39mself\u001b[39;49m\u001b[39m.\u001b[39;49m_mgr\u001b[39m.\u001b[39;49mastype(dtype\u001b[39m=\u001b[39;49mdtype, copy\u001b[39m=\u001b[39;49mcopy, errors\u001b[39m=\u001b[39;49merrors)\n\u001b[1;32m   6535\u001b[0m     res \u001b[39m=\u001b[39m \u001b[39mself\u001b[39m\u001b[39m.\u001b[39m_constructor_from_mgr(new_data, axes\u001b[39m=\u001b[39mnew_data\u001b[39m.\u001b[39maxes)\n\u001b[1;32m   6536\u001b[0m     \u001b[39mreturn\u001b[39;00m res\u001b[39m.\u001b[39m__finalize__(\u001b[39mself\u001b[39m, method\u001b[39m=\u001b[39m\u001b[39m\"\u001b[39m\u001b[39mastype\u001b[39m\u001b[39m\"\u001b[39m)\n",
      "File \u001b[0;32m~/anaconda3/envs/omnipose-track/lib/python3.10/site-packages/pandas/core/internals/managers.py:414\u001b[0m, in \u001b[0;36mBaseBlockManager.astype\u001b[0;34m(self, dtype, copy, errors)\u001b[0m\n\u001b[1;32m    411\u001b[0m \u001b[39melif\u001b[39;00m using_copy_on_write():\n\u001b[1;32m    412\u001b[0m     copy \u001b[39m=\u001b[39m \u001b[39mFalse\u001b[39;00m\n\u001b[0;32m--> 414\u001b[0m \u001b[39mreturn\u001b[39;00m \u001b[39mself\u001b[39;49m\u001b[39m.\u001b[39;49mapply(\n\u001b[1;32m    415\u001b[0m     \u001b[39m\"\u001b[39;49m\u001b[39mastype\u001b[39;49m\u001b[39m\"\u001b[39;49m,\n\u001b[1;32m    416\u001b[0m     dtype\u001b[39m=\u001b[39;49mdtype,\n\u001b[1;32m    417\u001b[0m     copy\u001b[39m=\u001b[39;49mcopy,\n\u001b[1;32m    418\u001b[0m     errors\u001b[39m=\u001b[39;49merrors,\n\u001b[1;32m    419\u001b[0m     using_cow\u001b[39m=\u001b[39;49musing_copy_on_write(),\n\u001b[1;32m    420\u001b[0m )\n",
      "File \u001b[0;32m~/anaconda3/envs/omnipose-track/lib/python3.10/site-packages/pandas/core/internals/managers.py:354\u001b[0m, in \u001b[0;36mBaseBlockManager.apply\u001b[0;34m(self, f, align_keys, **kwargs)\u001b[0m\n\u001b[1;32m    352\u001b[0m         applied \u001b[39m=\u001b[39m b\u001b[39m.\u001b[39mapply(f, \u001b[39m*\u001b[39m\u001b[39m*\u001b[39mkwargs)\n\u001b[1;32m    353\u001b[0m     \u001b[39melse\u001b[39;00m:\n\u001b[0;32m--> 354\u001b[0m         applied \u001b[39m=\u001b[39m \u001b[39mgetattr\u001b[39;49m(b, f)(\u001b[39m*\u001b[39;49m\u001b[39m*\u001b[39;49mkwargs)\n\u001b[1;32m    355\u001b[0m     result_blocks \u001b[39m=\u001b[39m extend_blocks(applied, result_blocks)\n\u001b[1;32m    357\u001b[0m out \u001b[39m=\u001b[39m \u001b[39mtype\u001b[39m(\u001b[39mself\u001b[39m)\u001b[39m.\u001b[39mfrom_blocks(result_blocks, \u001b[39mself\u001b[39m\u001b[39m.\u001b[39maxes)\n",
      "File \u001b[0;32m~/anaconda3/envs/omnipose-track/lib/python3.10/site-packages/pandas/core/internals/blocks.py:616\u001b[0m, in \u001b[0;36mBlock.astype\u001b[0;34m(self, dtype, copy, errors, using_cow)\u001b[0m\n\u001b[1;32m    596\u001b[0m \u001b[39m\u001b[39m\u001b[39m\"\"\"\u001b[39;00m\n\u001b[1;32m    597\u001b[0m \u001b[39mCoerce to the new dtype.\u001b[39;00m\n\u001b[1;32m    598\u001b[0m \n\u001b[0;32m   (...)\u001b[0m\n\u001b[1;32m    612\u001b[0m \u001b[39mBlock\u001b[39;00m\n\u001b[1;32m    613\u001b[0m \u001b[39m\"\"\"\u001b[39;00m\n\u001b[1;32m    614\u001b[0m values \u001b[39m=\u001b[39m \u001b[39mself\u001b[39m\u001b[39m.\u001b[39mvalues\n\u001b[0;32m--> 616\u001b[0m new_values \u001b[39m=\u001b[39m astype_array_safe(values, dtype, copy\u001b[39m=\u001b[39;49mcopy, errors\u001b[39m=\u001b[39;49merrors)\n\u001b[1;32m    618\u001b[0m new_values \u001b[39m=\u001b[39m maybe_coerce_values(new_values)\n\u001b[1;32m    620\u001b[0m refs \u001b[39m=\u001b[39m \u001b[39mNone\u001b[39;00m\n",
      "File \u001b[0;32m~/anaconda3/envs/omnipose-track/lib/python3.10/site-packages/pandas/core/dtypes/astype.py:238\u001b[0m, in \u001b[0;36mastype_array_safe\u001b[0;34m(values, dtype, copy, errors)\u001b[0m\n\u001b[1;32m    235\u001b[0m     dtype \u001b[39m=\u001b[39m dtype\u001b[39m.\u001b[39mnumpy_dtype\n\u001b[1;32m    237\u001b[0m \u001b[39mtry\u001b[39;00m:\n\u001b[0;32m--> 238\u001b[0m     new_values \u001b[39m=\u001b[39m astype_array(values, dtype, copy\u001b[39m=\u001b[39;49mcopy)\n\u001b[1;32m    239\u001b[0m \u001b[39mexcept\u001b[39;00m (\u001b[39mValueError\u001b[39;00m, \u001b[39mTypeError\u001b[39;00m):\n\u001b[1;32m    240\u001b[0m     \u001b[39m# e.g. _astype_nansafe can fail on object-dtype of strings\u001b[39;00m\n\u001b[1;32m    241\u001b[0m     \u001b[39m#  trying to convert to float\u001b[39;00m\n\u001b[1;32m    242\u001b[0m     \u001b[39mif\u001b[39;00m errors \u001b[39m==\u001b[39m \u001b[39m\"\u001b[39m\u001b[39mignore\u001b[39m\u001b[39m\"\u001b[39m:\n",
      "File \u001b[0;32m~/anaconda3/envs/omnipose-track/lib/python3.10/site-packages/pandas/core/dtypes/astype.py:183\u001b[0m, in \u001b[0;36mastype_array\u001b[0;34m(values, dtype, copy)\u001b[0m\n\u001b[1;32m    180\u001b[0m     values \u001b[39m=\u001b[39m values\u001b[39m.\u001b[39mastype(dtype, copy\u001b[39m=\u001b[39mcopy)\n\u001b[1;32m    182\u001b[0m \u001b[39melse\u001b[39;00m:\n\u001b[0;32m--> 183\u001b[0m     values \u001b[39m=\u001b[39m _astype_nansafe(values, dtype, copy\u001b[39m=\u001b[39;49mcopy)\n\u001b[1;32m    185\u001b[0m \u001b[39m# in pandas we don't store numpy str dtypes, so convert to object\u001b[39;00m\n\u001b[1;32m    186\u001b[0m \u001b[39mif\u001b[39;00m \u001b[39misinstance\u001b[39m(dtype, np\u001b[39m.\u001b[39mdtype) \u001b[39mand\u001b[39;00m \u001b[39missubclass\u001b[39m(values\u001b[39m.\u001b[39mdtype\u001b[39m.\u001b[39mtype, \u001b[39mstr\u001b[39m):\n",
      "File \u001b[0;32m~/anaconda3/envs/omnipose-track/lib/python3.10/site-packages/pandas/core/dtypes/astype.py:101\u001b[0m, in \u001b[0;36m_astype_nansafe\u001b[0;34m(arr, dtype, copy, skipna)\u001b[0m\n\u001b[1;32m     96\u001b[0m     \u001b[39mreturn\u001b[39;00m lib\u001b[39m.\u001b[39mensure_string_array(\n\u001b[1;32m     97\u001b[0m         arr, skipna\u001b[39m=\u001b[39mskipna, convert_na_value\u001b[39m=\u001b[39m\u001b[39mFalse\u001b[39;00m\n\u001b[1;32m     98\u001b[0m     )\u001b[39m.\u001b[39mreshape(shape)\n\u001b[1;32m    100\u001b[0m \u001b[39melif\u001b[39;00m np\u001b[39m.\u001b[39missubdtype(arr\u001b[39m.\u001b[39mdtype, np\u001b[39m.\u001b[39mfloating) \u001b[39mand\u001b[39;00m dtype\u001b[39m.\u001b[39mkind \u001b[39min\u001b[39;00m \u001b[39m\"\u001b[39m\u001b[39miu\u001b[39m\u001b[39m\"\u001b[39m:\n\u001b[0;32m--> 101\u001b[0m     \u001b[39mreturn\u001b[39;00m _astype_float_to_int_nansafe(arr, dtype, copy)\n\u001b[1;32m    103\u001b[0m \u001b[39melif\u001b[39;00m arr\u001b[39m.\u001b[39mdtype \u001b[39m==\u001b[39m \u001b[39mobject\u001b[39m:\n\u001b[1;32m    104\u001b[0m     \u001b[39m# if we have a datetime/timedelta array of objects\u001b[39;00m\n\u001b[1;32m    105\u001b[0m     \u001b[39m# then coerce to datetime64[ns] and use DatetimeArray.astype\u001b[39;00m\n\u001b[1;32m    107\u001b[0m     \u001b[39mif\u001b[39;00m lib\u001b[39m.\u001b[39mis_np_dtype(dtype, \u001b[39m\"\u001b[39m\u001b[39mM\u001b[39m\u001b[39m\"\u001b[39m):\n",
      "File \u001b[0;32m~/anaconda3/envs/omnipose-track/lib/python3.10/site-packages/pandas/core/dtypes/astype.py:146\u001b[0m, in \u001b[0;36m_astype_float_to_int_nansafe\u001b[0;34m(values, dtype, copy)\u001b[0m\n\u001b[1;32m    142\u001b[0m \u001b[39m\u001b[39m\u001b[39m\"\"\"\u001b[39;00m\n\u001b[1;32m    143\u001b[0m \u001b[39mastype with a check preventing converting NaN to an meaningless integer value.\u001b[39;00m\n\u001b[1;32m    144\u001b[0m \u001b[39m\"\"\"\u001b[39;00m\n\u001b[1;32m    145\u001b[0m \u001b[39mif\u001b[39;00m \u001b[39mnot\u001b[39;00m np\u001b[39m.\u001b[39misfinite(values)\u001b[39m.\u001b[39mall():\n\u001b[0;32m--> 146\u001b[0m     \u001b[39mraise\u001b[39;00m IntCastingNaNError(\n\u001b[1;32m    147\u001b[0m         \u001b[39m\"\u001b[39m\u001b[39mCannot convert non-finite values (NA or inf) to integer\u001b[39m\u001b[39m\"\u001b[39m\n\u001b[1;32m    148\u001b[0m     )\n\u001b[1;32m    149\u001b[0m \u001b[39mif\u001b[39;00m dtype\u001b[39m.\u001b[39mkind \u001b[39m==\u001b[39m \u001b[39m\"\u001b[39m\u001b[39mu\u001b[39m\u001b[39m\"\u001b[39m:\n\u001b[1;32m    150\u001b[0m     \u001b[39m# GH#45151\u001b[39;00m\n\u001b[1;32m    151\u001b[0m     \u001b[39mif\u001b[39;00m \u001b[39mnot\u001b[39;00m (values \u001b[39m>\u001b[39m\u001b[39m=\u001b[39m \u001b[39m0\u001b[39m)\u001b[39m.\u001b[39mall():\n",
      "\u001b[0;31mIntCastingNaNError\u001b[0m: Cannot convert non-finite values (NA or inf) to integer"
     ]
    }
   ],
   "source": [
    "df = hier_arr[0].to_df()"
   ]
  },
  {
   "cell_type": "code",
   "execution_count": 6,
   "metadata": {},
   "outputs": [
    {
     "ename": "KeyError",
     "evalue": "104.0",
     "output_type": "error",
     "traceback": [
      "\u001b[0;31m---------------------------------------------------------------------------\u001b[0m",
      "\u001b[0;31mKeyError\u001b[0m                                  Traceback (most recent call last)",
      "\u001b[1;32m/Users/sherryyang/Projects/trackdemo/tests/test2.ipynb Cell 6\u001b[0m line \u001b[0;36m2\n\u001b[1;32m      <a href='vscode-notebook-cell:/Users/sherryyang/Projects/trackdemo/tests/test2.ipynb#Y106sZmlsZQ%3D%3D?line=0'>1</a>\u001b[0m \u001b[39mfrom\u001b[39;00m \u001b[39mtrackdemo\u001b[39;00m \u001b[39mimport\u001b[39;00m Hierarchy\n\u001b[0;32m----> <a href='vscode-notebook-cell:/Users/sherryyang/Projects/trackdemo/tests/test2.ipynb#Y106sZmlsZQ%3D%3D?line=1'>2</a>\u001b[0m Hierarchy\u001b[39m.\u001b[39;49mread_df(df)\n",
      "File \u001b[0;32m~/Projects/trackdemo/trackdemo/hierarchy.py:111\u001b[0m, in \u001b[0;36mHierarchy.read_df\u001b[0;34m(df)\u001b[0m\n\u001b[1;32m    109\u001b[0m \u001b[39m# Set up the hierarchy\u001b[39;00m\n\u001b[1;32m    110\u001b[0m \u001b[39mfor\u001b[39;00m _, row \u001b[39min\u001b[39;00m df\u001b[39m.\u001b[39miterrows():\n\u001b[0;32m--> 111\u001b[0m     node \u001b[39m=\u001b[39m node_dict[row[\u001b[39m'\u001b[39;49m\u001b[39mIndex\u001b[39;49m\u001b[39m'\u001b[39;49m]]\n\u001b[1;32m    112\u001b[0m     \u001b[39mif\u001b[39;00m row[\u001b[39m'\u001b[39m\u001b[39mSuper\u001b[39m\u001b[39m'\u001b[39m] \u001b[39m!=\u001b[39m \u001b[39m'\u001b[39m\u001b[39mROOT\u001b[39m\u001b[39m'\u001b[39m:\n\u001b[1;32m    113\u001b[0m         super_node \u001b[39m=\u001b[39m node_dict[row[\u001b[39m'\u001b[39m\u001b[39mSuper\u001b[39m\u001b[39m'\u001b[39m]]\n",
      "\u001b[0;31mKeyError\u001b[0m: 104.0"
     ]
    }
   ],
   "source": [
    "from trackdemo import Hierarchy\n",
    "Hierarchy.read_df(df)"
   ]
  },
  {
   "cell_type": "code",
   "execution_count": 7,
   "metadata": {},
   "outputs": [],
   "source": [
    "import pandas as pd\n",
    "node_dicts = [node.to_dict() for node in hier_arr[0].all_nodes(include_root=True)]\n",
    "df = pd.DataFrame(node_dicts)\n",
    "# df['Index'] = df['Index'].astype(int)\n"
   ]
  },
  {
   "cell_type": "code",
   "execution_count": 11,
   "metadata": {},
   "outputs": [
    {
     "ename": "IntCastingNaNError",
     "evalue": "Cannot convert non-finite values (NA or inf) to integer",
     "output_type": "error",
     "traceback": [
      "\u001b[0;31m---------------------------------------------------------------------------\u001b[0m",
      "\u001b[0;31mIntCastingNaNError\u001b[0m                        Traceback (most recent call last)",
      "\u001b[1;32m/Users/sherryyang/Projects/trackdemo/tests/test2.ipynb Cell 8\u001b[0m line \u001b[0;36m1\n\u001b[0;32m----> <a href='vscode-notebook-cell:/Users/sherryyang/Projects/trackdemo/tests/test2.ipynb#Y112sZmlsZQ%3D%3D?line=0'>1</a>\u001b[0m df[\u001b[39m\"\u001b[39;49m\u001b[39mIndex\u001b[39;49m\u001b[39m\"\u001b[39;49m]\u001b[39m.\u001b[39;49mastype(\u001b[39mint\u001b[39;49m)\n",
      "File \u001b[0;32m~/anaconda3/envs/omnipose-track/lib/python3.10/site-packages/pandas/core/generic.py:6534\u001b[0m, in \u001b[0;36mNDFrame.astype\u001b[0;34m(self, dtype, copy, errors)\u001b[0m\n\u001b[1;32m   6530\u001b[0m     results \u001b[39m=\u001b[39m [ser\u001b[39m.\u001b[39mastype(dtype, copy\u001b[39m=\u001b[39mcopy) \u001b[39mfor\u001b[39;00m _, ser \u001b[39min\u001b[39;00m \u001b[39mself\u001b[39m\u001b[39m.\u001b[39mitems()]\n\u001b[1;32m   6532\u001b[0m \u001b[39melse\u001b[39;00m:\n\u001b[1;32m   6533\u001b[0m     \u001b[39m# else, only a single dtype is given\u001b[39;00m\n\u001b[0;32m-> 6534\u001b[0m     new_data \u001b[39m=\u001b[39m \u001b[39mself\u001b[39;49m\u001b[39m.\u001b[39;49m_mgr\u001b[39m.\u001b[39;49mastype(dtype\u001b[39m=\u001b[39;49mdtype, copy\u001b[39m=\u001b[39;49mcopy, errors\u001b[39m=\u001b[39;49merrors)\n\u001b[1;32m   6535\u001b[0m     res \u001b[39m=\u001b[39m \u001b[39mself\u001b[39m\u001b[39m.\u001b[39m_constructor_from_mgr(new_data, axes\u001b[39m=\u001b[39mnew_data\u001b[39m.\u001b[39maxes)\n\u001b[1;32m   6536\u001b[0m     \u001b[39mreturn\u001b[39;00m res\u001b[39m.\u001b[39m__finalize__(\u001b[39mself\u001b[39m, method\u001b[39m=\u001b[39m\u001b[39m\"\u001b[39m\u001b[39mastype\u001b[39m\u001b[39m\"\u001b[39m)\n",
      "File \u001b[0;32m~/anaconda3/envs/omnipose-track/lib/python3.10/site-packages/pandas/core/internals/managers.py:414\u001b[0m, in \u001b[0;36mBaseBlockManager.astype\u001b[0;34m(self, dtype, copy, errors)\u001b[0m\n\u001b[1;32m    411\u001b[0m \u001b[39melif\u001b[39;00m using_copy_on_write():\n\u001b[1;32m    412\u001b[0m     copy \u001b[39m=\u001b[39m \u001b[39mFalse\u001b[39;00m\n\u001b[0;32m--> 414\u001b[0m \u001b[39mreturn\u001b[39;00m \u001b[39mself\u001b[39;49m\u001b[39m.\u001b[39;49mapply(\n\u001b[1;32m    415\u001b[0m     \u001b[39m\"\u001b[39;49m\u001b[39mastype\u001b[39;49m\u001b[39m\"\u001b[39;49m,\n\u001b[1;32m    416\u001b[0m     dtype\u001b[39m=\u001b[39;49mdtype,\n\u001b[1;32m    417\u001b[0m     copy\u001b[39m=\u001b[39;49mcopy,\n\u001b[1;32m    418\u001b[0m     errors\u001b[39m=\u001b[39;49merrors,\n\u001b[1;32m    419\u001b[0m     using_cow\u001b[39m=\u001b[39;49musing_copy_on_write(),\n\u001b[1;32m    420\u001b[0m )\n",
      "File \u001b[0;32m~/anaconda3/envs/omnipose-track/lib/python3.10/site-packages/pandas/core/internals/managers.py:354\u001b[0m, in \u001b[0;36mBaseBlockManager.apply\u001b[0;34m(self, f, align_keys, **kwargs)\u001b[0m\n\u001b[1;32m    352\u001b[0m         applied \u001b[39m=\u001b[39m b\u001b[39m.\u001b[39mapply(f, \u001b[39m*\u001b[39m\u001b[39m*\u001b[39mkwargs)\n\u001b[1;32m    353\u001b[0m     \u001b[39melse\u001b[39;00m:\n\u001b[0;32m--> 354\u001b[0m         applied \u001b[39m=\u001b[39m \u001b[39mgetattr\u001b[39;49m(b, f)(\u001b[39m*\u001b[39;49m\u001b[39m*\u001b[39;49mkwargs)\n\u001b[1;32m    355\u001b[0m     result_blocks \u001b[39m=\u001b[39m extend_blocks(applied, result_blocks)\n\u001b[1;32m    357\u001b[0m out \u001b[39m=\u001b[39m \u001b[39mtype\u001b[39m(\u001b[39mself\u001b[39m)\u001b[39m.\u001b[39mfrom_blocks(result_blocks, \u001b[39mself\u001b[39m\u001b[39m.\u001b[39maxes)\n",
      "File \u001b[0;32m~/anaconda3/envs/omnipose-track/lib/python3.10/site-packages/pandas/core/internals/blocks.py:616\u001b[0m, in \u001b[0;36mBlock.astype\u001b[0;34m(self, dtype, copy, errors, using_cow)\u001b[0m\n\u001b[1;32m    596\u001b[0m \u001b[39m\u001b[39m\u001b[39m\"\"\"\u001b[39;00m\n\u001b[1;32m    597\u001b[0m \u001b[39mCoerce to the new dtype.\u001b[39;00m\n\u001b[1;32m    598\u001b[0m \n\u001b[0;32m   (...)\u001b[0m\n\u001b[1;32m    612\u001b[0m \u001b[39mBlock\u001b[39;00m\n\u001b[1;32m    613\u001b[0m \u001b[39m\"\"\"\u001b[39;00m\n\u001b[1;32m    614\u001b[0m values \u001b[39m=\u001b[39m \u001b[39mself\u001b[39m\u001b[39m.\u001b[39mvalues\n\u001b[0;32m--> 616\u001b[0m new_values \u001b[39m=\u001b[39m astype_array_safe(values, dtype, copy\u001b[39m=\u001b[39;49mcopy, errors\u001b[39m=\u001b[39;49merrors)\n\u001b[1;32m    618\u001b[0m new_values \u001b[39m=\u001b[39m maybe_coerce_values(new_values)\n\u001b[1;32m    620\u001b[0m refs \u001b[39m=\u001b[39m \u001b[39mNone\u001b[39;00m\n",
      "File \u001b[0;32m~/anaconda3/envs/omnipose-track/lib/python3.10/site-packages/pandas/core/dtypes/astype.py:238\u001b[0m, in \u001b[0;36mastype_array_safe\u001b[0;34m(values, dtype, copy, errors)\u001b[0m\n\u001b[1;32m    235\u001b[0m     dtype \u001b[39m=\u001b[39m dtype\u001b[39m.\u001b[39mnumpy_dtype\n\u001b[1;32m    237\u001b[0m \u001b[39mtry\u001b[39;00m:\n\u001b[0;32m--> 238\u001b[0m     new_values \u001b[39m=\u001b[39m astype_array(values, dtype, copy\u001b[39m=\u001b[39;49mcopy)\n\u001b[1;32m    239\u001b[0m \u001b[39mexcept\u001b[39;00m (\u001b[39mValueError\u001b[39;00m, \u001b[39mTypeError\u001b[39;00m):\n\u001b[1;32m    240\u001b[0m     \u001b[39m# e.g. _astype_nansafe can fail on object-dtype of strings\u001b[39;00m\n\u001b[1;32m    241\u001b[0m     \u001b[39m#  trying to convert to float\u001b[39;00m\n\u001b[1;32m    242\u001b[0m     \u001b[39mif\u001b[39;00m errors \u001b[39m==\u001b[39m \u001b[39m\"\u001b[39m\u001b[39mignore\u001b[39m\u001b[39m\"\u001b[39m:\n",
      "File \u001b[0;32m~/anaconda3/envs/omnipose-track/lib/python3.10/site-packages/pandas/core/dtypes/astype.py:183\u001b[0m, in \u001b[0;36mastype_array\u001b[0;34m(values, dtype, copy)\u001b[0m\n\u001b[1;32m    180\u001b[0m     values \u001b[39m=\u001b[39m values\u001b[39m.\u001b[39mastype(dtype, copy\u001b[39m=\u001b[39mcopy)\n\u001b[1;32m    182\u001b[0m \u001b[39melse\u001b[39;00m:\n\u001b[0;32m--> 183\u001b[0m     values \u001b[39m=\u001b[39m _astype_nansafe(values, dtype, copy\u001b[39m=\u001b[39;49mcopy)\n\u001b[1;32m    185\u001b[0m \u001b[39m# in pandas we don't store numpy str dtypes, so convert to object\u001b[39;00m\n\u001b[1;32m    186\u001b[0m \u001b[39mif\u001b[39;00m \u001b[39misinstance\u001b[39m(dtype, np\u001b[39m.\u001b[39mdtype) \u001b[39mand\u001b[39;00m \u001b[39missubclass\u001b[39m(values\u001b[39m.\u001b[39mdtype\u001b[39m.\u001b[39mtype, \u001b[39mstr\u001b[39m):\n",
      "File \u001b[0;32m~/anaconda3/envs/omnipose-track/lib/python3.10/site-packages/pandas/core/dtypes/astype.py:101\u001b[0m, in \u001b[0;36m_astype_nansafe\u001b[0;34m(arr, dtype, copy, skipna)\u001b[0m\n\u001b[1;32m     96\u001b[0m     \u001b[39mreturn\u001b[39;00m lib\u001b[39m.\u001b[39mensure_string_array(\n\u001b[1;32m     97\u001b[0m         arr, skipna\u001b[39m=\u001b[39mskipna, convert_na_value\u001b[39m=\u001b[39m\u001b[39mFalse\u001b[39;00m\n\u001b[1;32m     98\u001b[0m     )\u001b[39m.\u001b[39mreshape(shape)\n\u001b[1;32m    100\u001b[0m \u001b[39melif\u001b[39;00m np\u001b[39m.\u001b[39missubdtype(arr\u001b[39m.\u001b[39mdtype, np\u001b[39m.\u001b[39mfloating) \u001b[39mand\u001b[39;00m dtype\u001b[39m.\u001b[39mkind \u001b[39min\u001b[39;00m \u001b[39m\"\u001b[39m\u001b[39miu\u001b[39m\u001b[39m\"\u001b[39m:\n\u001b[0;32m--> 101\u001b[0m     \u001b[39mreturn\u001b[39;00m _astype_float_to_int_nansafe(arr, dtype, copy)\n\u001b[1;32m    103\u001b[0m \u001b[39melif\u001b[39;00m arr\u001b[39m.\u001b[39mdtype \u001b[39m==\u001b[39m \u001b[39mobject\u001b[39m:\n\u001b[1;32m    104\u001b[0m     \u001b[39m# if we have a datetime/timedelta array of objects\u001b[39;00m\n\u001b[1;32m    105\u001b[0m     \u001b[39m# then coerce to datetime64[ns] and use DatetimeArray.astype\u001b[39;00m\n\u001b[1;32m    107\u001b[0m     \u001b[39mif\u001b[39;00m lib\u001b[39m.\u001b[39mis_np_dtype(dtype, \u001b[39m\"\u001b[39m\u001b[39mM\u001b[39m\u001b[39m\"\u001b[39m):\n",
      "File \u001b[0;32m~/anaconda3/envs/omnipose-track/lib/python3.10/site-packages/pandas/core/dtypes/astype.py:146\u001b[0m, in \u001b[0;36m_astype_float_to_int_nansafe\u001b[0;34m(values, dtype, copy)\u001b[0m\n\u001b[1;32m    142\u001b[0m \u001b[39m\u001b[39m\u001b[39m\"\"\"\u001b[39;00m\n\u001b[1;32m    143\u001b[0m \u001b[39mastype with a check preventing converting NaN to an meaningless integer value.\u001b[39;00m\n\u001b[1;32m    144\u001b[0m \u001b[39m\"\"\"\u001b[39;00m\n\u001b[1;32m    145\u001b[0m \u001b[39mif\u001b[39;00m \u001b[39mnot\u001b[39;00m np\u001b[39m.\u001b[39misfinite(values)\u001b[39m.\u001b[39mall():\n\u001b[0;32m--> 146\u001b[0m     \u001b[39mraise\u001b[39;00m IntCastingNaNError(\n\u001b[1;32m    147\u001b[0m         \u001b[39m\"\u001b[39m\u001b[39mCannot convert non-finite values (NA or inf) to integer\u001b[39m\u001b[39m\"\u001b[39m\n\u001b[1;32m    148\u001b[0m     )\n\u001b[1;32m    149\u001b[0m \u001b[39mif\u001b[39;00m dtype\u001b[39m.\u001b[39mkind \u001b[39m==\u001b[39m \u001b[39m\"\u001b[39m\u001b[39mu\u001b[39m\u001b[39m\"\u001b[39m:\n\u001b[1;32m    150\u001b[0m     \u001b[39m# GH#45151\u001b[39;00m\n\u001b[1;32m    151\u001b[0m     \u001b[39mif\u001b[39;00m \u001b[39mnot\u001b[39;00m (values \u001b[39m>\u001b[39m\u001b[39m=\u001b[39m \u001b[39m0\u001b[39m)\u001b[39m.\u001b[39mall():\n",
      "\u001b[0;31mIntCastingNaNError\u001b[0m: Cannot convert non-finite values (NA or inf) to integer"
     ]
    }
   ],
   "source": [
    "df[\"Index\"].astype(int)"
   ]
  },
  {
   "cell_type": "code",
   "execution_count": 7,
   "metadata": {},
   "outputs": [
    {
     "data": {
      "text/html": [
       "<div>\n",
       "<style scoped>\n",
       "    .dataframe tbody tr th:only-of-type {\n",
       "        vertical-align: middle;\n",
       "    }\n",
       "\n",
       "    .dataframe tbody tr th {\n",
       "        vertical-align: top;\n",
       "    }\n",
       "\n",
       "    .dataframe thead th {\n",
       "        text-align: right;\n",
       "    }\n",
       "</style>\n",
       "<table border=\"1\" class=\"dataframe\">\n",
       "  <thead>\n",
       "    <tr style=\"text-align: right;\">\n",
       "      <th></th>\n",
       "      <th>Value</th>\n",
       "      <th>Index</th>\n",
       "      <th>Label</th>\n",
       "      <th>Next</th>\n",
       "      <th>Shape</th>\n",
       "      <th>Cost</th>\n",
       "      <th>Area</th>\n",
       "      <th>Centroid</th>\n",
       "      <th>Frame</th>\n",
       "      <th>Bound</th>\n",
       "      <th>Super</th>\n",
       "    </tr>\n",
       "  </thead>\n",
       "  <tbody>\n",
       "    <tr>\n",
       "      <th>0</th>\n",
       "      <td>[[1509, 953], [1509, 954], [1509, 955], [1510,...</td>\n",
       "      <td>104.0</td>\n",
       "      <td>None</td>\n",
       "      <td>None</td>\n",
       "      <td>(2187, 2619)</td>\n",
       "      <td>None</td>\n",
       "      <td>98.0</td>\n",
       "      <td>(1516.357142857143, 954.3877551020408)</td>\n",
       "      <td>0.0</td>\n",
       "      <td>[[1509, 1524], [949, 959]]</td>\n",
       "      <td>100</td>\n",
       "    </tr>\n",
       "    <tr>\n",
       "      <th>1</th>\n",
       "      <td>[[334, 669], [334, 670], [334, 671], [334, 672...</td>\n",
       "      <td>20.0</td>\n",
       "      <td>None</td>\n",
       "      <td>None</td>\n",
       "      <td>(2187, 2619)</td>\n",
       "      <td>None</td>\n",
       "      <td>2173.0</td>\n",
       "      <td>(408.9604233778187, 667.1780947998159)</td>\n",
       "      <td>0.0</td>\n",
       "      <td>[[334, 465], [614, 693]]</td>\n",
       "      <td>None</td>\n",
       "    </tr>\n",
       "    <tr>\n",
       "      <th>2</th>\n",
       "      <td>[[1444, 584], [1445, 581], [1445, 582], [1445,...</td>\n",
       "      <td>68.0</td>\n",
       "      <td>None</td>\n",
       "      <td>None</td>\n",
       "      <td>(2187, 2619)</td>\n",
       "      <td>None</td>\n",
       "      <td>201.0</td>\n",
       "      <td>(1454.3034825870648, 581.0149253731344)</td>\n",
       "      <td>0.0</td>\n",
       "      <td>[[1444, 1463], [574, 587]]</td>\n",
       "      <td>65</td>\n",
       "    </tr>\n",
       "    <tr>\n",
       "      <th>3</th>\n",
       "      <td>[[27, 58], [27, 59], [27, 60], [27, 61], [27, ...</td>\n",
       "      <td>0.0</td>\n",
       "      <td>None</td>\n",
       "      <td>None</td>\n",
       "      <td>(2187, 2619)</td>\n",
       "      <td>None</td>\n",
       "      <td>99.0</td>\n",
       "      <td>(31.767676767676768, 61.95959595959596)</td>\n",
       "      <td>0.0</td>\n",
       "      <td>[[27, 39], [58, 72]]</td>\n",
       "      <td>None</td>\n",
       "    </tr>\n",
       "    <tr>\n",
       "      <th>4</th>\n",
       "      <td>[[116, 708], [117, 702], [117, 703], [117, 704...</td>\n",
       "      <td>9.0</td>\n",
       "      <td>None</td>\n",
       "      <td>None</td>\n",
       "      <td>(2187, 2619)</td>\n",
       "      <td>None</td>\n",
       "      <td>364.0</td>\n",
       "      <td>(124.45054945054945, 696.6868131868132)</td>\n",
       "      <td>0.0</td>\n",
       "      <td>[[116, 131], [684, 710]]</td>\n",
       "      <td>8</td>\n",
       "    </tr>\n",
       "    <tr>\n",
       "      <th>...</th>\n",
       "      <td>...</td>\n",
       "      <td>...</td>\n",
       "      <td>...</td>\n",
       "      <td>...</td>\n",
       "      <td>...</td>\n",
       "      <td>...</td>\n",
       "      <td>...</td>\n",
       "      <td>...</td>\n",
       "      <td>...</td>\n",
       "      <td>...</td>\n",
       "      <td>...</td>\n",
       "    </tr>\n",
       "    <tr>\n",
       "      <th>174</th>\n",
       "      <td>[[1387, 584], [1388, 580], [1388, 581], [1388,...</td>\n",
       "      <td>55.0</td>\n",
       "      <td>None</td>\n",
       "      <td>None</td>\n",
       "      <td>(2187, 2619)</td>\n",
       "      <td>None</td>\n",
       "      <td>2631.0</td>\n",
       "      <td>(1482.8882554161917, 587.0395286963131)</td>\n",
       "      <td>0.0</td>\n",
       "      <td>[[1387, 1590], [572, 600]]</td>\n",
       "      <td>51</td>\n",
       "    </tr>\n",
       "    <tr>\n",
       "      <th>175</th>\n",
       "      <td>[[1507, 1129], [1507, 1130], [1507, 1131], [15...</td>\n",
       "      <td>110.0</td>\n",
       "      <td>None</td>\n",
       "      <td>None</td>\n",
       "      <td>(2187, 2619)</td>\n",
       "      <td>None</td>\n",
       "      <td>492.0</td>\n",
       "      <td>(1515.1443089430895, 1145.9146341463415)</td>\n",
       "      <td>0.0</td>\n",
       "      <td>[[1507, 1522], [1129, 1167]]</td>\n",
       "      <td>108</td>\n",
       "    </tr>\n",
       "    <tr>\n",
       "      <th>176</th>\n",
       "      <td>[[1684, 1962], [1684, 1963], [1684, 1964], [16...</td>\n",
       "      <td>122.0</td>\n",
       "      <td>None</td>\n",
       "      <td>None</td>\n",
       "      <td>(2187, 2619)</td>\n",
       "      <td>None</td>\n",
       "      <td>40.0</td>\n",
       "      <td>(1686.625, 1960.075)</td>\n",
       "      <td>0.0</td>\n",
       "      <td>[[1684, 1690], [1956, 1964]]</td>\n",
       "      <td>121</td>\n",
       "    </tr>\n",
       "    <tr>\n",
       "      <th>177</th>\n",
       "      <td>[[98, 766], [98, 767], [98, 768], [98, 769], [...</td>\n",
       "      <td>6.0</td>\n",
       "      <td>None</td>\n",
       "      <td>None</td>\n",
       "      <td>(2187, 2619)</td>\n",
       "      <td>None</td>\n",
       "      <td>887.0</td>\n",
       "      <td>(113.68320180383314, 746.4148816234498)</td>\n",
       "      <td>0.0</td>\n",
       "      <td>[[98, 128], [720, 774]]</td>\n",
       "      <td>5</td>\n",
       "    </tr>\n",
       "    <tr>\n",
       "      <th>178</th>\n",
       "      <td>[[1452, 381], [1453, 378], [1453, 379], [1453,...</td>\n",
       "      <td>87.0</td>\n",
       "      <td>None</td>\n",
       "      <td>None</td>\n",
       "      <td>(2187, 2619)</td>\n",
       "      <td>None</td>\n",
       "      <td>68.0</td>\n",
       "      <td>(1458.764705882353, 380.3382352941176)</td>\n",
       "      <td>0.0</td>\n",
       "      <td>[[1452, 1465], [377, 384]]</td>\n",
       "      <td>85</td>\n",
       "    </tr>\n",
       "  </tbody>\n",
       "</table>\n",
       "<p>179 rows × 11 columns</p>\n",
       "</div>"
      ],
      "text/plain": [
       "                                                 Value  Index Label  Next  \\\n",
       "0    [[1509, 953], [1509, 954], [1509, 955], [1510,...  104.0  None  None   \n",
       "1    [[334, 669], [334, 670], [334, 671], [334, 672...   20.0  None  None   \n",
       "2    [[1444, 584], [1445, 581], [1445, 582], [1445,...   68.0  None  None   \n",
       "3    [[27, 58], [27, 59], [27, 60], [27, 61], [27, ...    0.0  None  None   \n",
       "4    [[116, 708], [117, 702], [117, 703], [117, 704...    9.0  None  None   \n",
       "..                                                 ...    ...   ...   ...   \n",
       "174  [[1387, 584], [1388, 580], [1388, 581], [1388,...   55.0  None  None   \n",
       "175  [[1507, 1129], [1507, 1130], [1507, 1131], [15...  110.0  None  None   \n",
       "176  [[1684, 1962], [1684, 1963], [1684, 1964], [16...  122.0  None  None   \n",
       "177  [[98, 766], [98, 767], [98, 768], [98, 769], [...    6.0  None  None   \n",
       "178  [[1452, 381], [1453, 378], [1453, 379], [1453,...   87.0  None  None   \n",
       "\n",
       "            Shape  Cost    Area                                  Centroid  \\\n",
       "0    (2187, 2619)  None    98.0    (1516.357142857143, 954.3877551020408)   \n",
       "1    (2187, 2619)  None  2173.0    (408.9604233778187, 667.1780947998159)   \n",
       "2    (2187, 2619)  None   201.0   (1454.3034825870648, 581.0149253731344)   \n",
       "3    (2187, 2619)  None    99.0   (31.767676767676768, 61.95959595959596)   \n",
       "4    (2187, 2619)  None   364.0   (124.45054945054945, 696.6868131868132)   \n",
       "..            ...   ...     ...                                       ...   \n",
       "174  (2187, 2619)  None  2631.0   (1482.8882554161917, 587.0395286963131)   \n",
       "175  (2187, 2619)  None   492.0  (1515.1443089430895, 1145.9146341463415)   \n",
       "176  (2187, 2619)  None    40.0                      (1686.625, 1960.075)   \n",
       "177  (2187, 2619)  None   887.0   (113.68320180383314, 746.4148816234498)   \n",
       "178  (2187, 2619)  None    68.0    (1458.764705882353, 380.3382352941176)   \n",
       "\n",
       "     Frame                         Bound Super  \n",
       "0      0.0    [[1509, 1524], [949, 959]]   100  \n",
       "1      0.0      [[334, 465], [614, 693]]  None  \n",
       "2      0.0    [[1444, 1463], [574, 587]]    65  \n",
       "3      0.0          [[27, 39], [58, 72]]  None  \n",
       "4      0.0      [[116, 131], [684, 710]]     8  \n",
       "..     ...                           ...   ...  \n",
       "174    0.0    [[1387, 1590], [572, 600]]    51  \n",
       "175    0.0  [[1507, 1522], [1129, 1167]]   108  \n",
       "176    0.0  [[1684, 1690], [1956, 1964]]   121  \n",
       "177    0.0       [[98, 128], [720, 774]]     5  \n",
       "178    0.0    [[1452, 1465], [377, 384]]    85  \n",
       "\n",
       "[179 rows x 11 columns]"
      ]
     },
     "execution_count": 7,
     "metadata": {},
     "output_type": "execute_result"
    }
   ],
   "source": [
    "df"
   ]
  },
  {
   "cell_type": "code",
   "execution_count": 13,
   "metadata": {},
   "outputs": [
    {
     "data": {
      "text/plain": [
       "{'Value': None,\n",
       " 'Index': None,\n",
       " 'Label': None,\n",
       " 'Next': None,\n",
       " 'Shape': None,\n",
       " 'Cost': None,\n",
       " 'Area': None,\n",
       " 'Centroid': None,\n",
       " 'Frame': None,\n",
       " 'Bound': None,\n",
       " 'Super': None}"
      ]
     },
     "execution_count": 13,
     "metadata": {},
     "output_type": "execute_result"
    }
   ],
   "source": [
    "node.to_dict()"
   ]
  },
  {
   "cell_type": "code",
   "execution_count": 15,
   "metadata": {},
   "outputs": [
    {
     "data": {
      "text/plain": [
       "'happy'"
      ]
     },
     "execution_count": 15,
     "metadata": {},
     "output_type": "execute_result"
    }
   ],
   "source": [
    "\"Happy\".lower()"
   ]
  },
  {
   "cell_type": "code",
   "execution_count": 14,
   "metadata": {},
   "outputs": [
    {
     "data": {
      "text/plain": [
       "2144"
      ]
     },
     "execution_count": 14,
     "metadata": {},
     "output_type": "execute_result"
    }
   ],
   "source": [
    "node.area"
   ]
  },
  {
   "cell_type": "code",
   "execution_count": 9,
   "metadata": {},
   "outputs": [
    {
     "data": {
      "text/html": [
       "<div>\n",
       "<style scoped>\n",
       "    .dataframe tbody tr th:only-of-type {\n",
       "        vertical-align: middle;\n",
       "    }\n",
       "\n",
       "    .dataframe tbody tr th {\n",
       "        vertical-align: top;\n",
       "    }\n",
       "\n",
       "    .dataframe thead th {\n",
       "        text-align: right;\n",
       "    }\n",
       "</style>\n",
       "<table border=\"1\" class=\"dataframe\">\n",
       "  <thead>\n",
       "    <tr style=\"text-align: right;\">\n",
       "      <th></th>\n",
       "      <th>Value</th>\n",
       "      <th>Index</th>\n",
       "      <th>Label</th>\n",
       "      <th>Next</th>\n",
       "      <th>Shape</th>\n",
       "      <th>Cost</th>\n",
       "      <th>Area</th>\n",
       "      <th>Centroid</th>\n",
       "      <th>Frame</th>\n",
       "      <th>Bound</th>\n",
       "      <th>Super</th>\n",
       "    </tr>\n",
       "  </thead>\n",
       "  <tbody>\n",
       "    <tr>\n",
       "      <th>0</th>\n",
       "      <td>None</td>\n",
       "      <td>None</td>\n",
       "      <td>None</td>\n",
       "      <td>None</td>\n",
       "      <td>None</td>\n",
       "      <td>None</td>\n",
       "      <td>None</td>\n",
       "      <td>None</td>\n",
       "      <td>None</td>\n",
       "      <td>None</td>\n",
       "      <td>156</td>\n",
       "    </tr>\n",
       "    <tr>\n",
       "      <th>1</th>\n",
       "      <td>None</td>\n",
       "      <td>None</td>\n",
       "      <td>None</td>\n",
       "      <td>None</td>\n",
       "      <td>None</td>\n",
       "      <td>None</td>\n",
       "      <td>None</td>\n",
       "      <td>None</td>\n",
       "      <td>None</td>\n",
       "      <td>None</td>\n",
       "      <td>39</td>\n",
       "    </tr>\n",
       "    <tr>\n",
       "      <th>2</th>\n",
       "      <td>None</td>\n",
       "      <td>None</td>\n",
       "      <td>None</td>\n",
       "      <td>None</td>\n",
       "      <td>None</td>\n",
       "      <td>None</td>\n",
       "      <td>None</td>\n",
       "      <td>None</td>\n",
       "      <td>None</td>\n",
       "      <td>None</td>\n",
       "      <td>156</td>\n",
       "    </tr>\n",
       "    <tr>\n",
       "      <th>3</th>\n",
       "      <td>None</td>\n",
       "      <td>None</td>\n",
       "      <td>None</td>\n",
       "      <td>None</td>\n",
       "      <td>None</td>\n",
       "      <td>None</td>\n",
       "      <td>None</td>\n",
       "      <td>None</td>\n",
       "      <td>None</td>\n",
       "      <td>None</td>\n",
       "      <td>8</td>\n",
       "    </tr>\n",
       "    <tr>\n",
       "      <th>4</th>\n",
       "      <td>None</td>\n",
       "      <td>None</td>\n",
       "      <td>None</td>\n",
       "      <td>None</td>\n",
       "      <td>None</td>\n",
       "      <td>None</td>\n",
       "      <td>None</td>\n",
       "      <td>None</td>\n",
       "      <td>None</td>\n",
       "      <td>None</td>\n",
       "      <td>91</td>\n",
       "    </tr>\n",
       "    <tr>\n",
       "      <th>...</th>\n",
       "      <td>...</td>\n",
       "      <td>...</td>\n",
       "      <td>...</td>\n",
       "      <td>...</td>\n",
       "      <td>...</td>\n",
       "      <td>...</td>\n",
       "      <td>...</td>\n",
       "      <td>...</td>\n",
       "      <td>...</td>\n",
       "      <td>...</td>\n",
       "      <td>...</td>\n",
       "    </tr>\n",
       "    <tr>\n",
       "      <th>508</th>\n",
       "      <td>None</td>\n",
       "      <td>None</td>\n",
       "      <td>None</td>\n",
       "      <td>None</td>\n",
       "      <td>None</td>\n",
       "      <td>None</td>\n",
       "      <td>None</td>\n",
       "      <td>None</td>\n",
       "      <td>None</td>\n",
       "      <td>None</td>\n",
       "      <td>368</td>\n",
       "    </tr>\n",
       "    <tr>\n",
       "      <th>509</th>\n",
       "      <td>None</td>\n",
       "      <td>None</td>\n",
       "      <td>None</td>\n",
       "      <td>None</td>\n",
       "      <td>None</td>\n",
       "      <td>None</td>\n",
       "      <td>None</td>\n",
       "      <td>None</td>\n",
       "      <td>None</td>\n",
       "      <td>None</td>\n",
       "      <td>392</td>\n",
       "    </tr>\n",
       "    <tr>\n",
       "      <th>510</th>\n",
       "      <td>None</td>\n",
       "      <td>None</td>\n",
       "      <td>None</td>\n",
       "      <td>None</td>\n",
       "      <td>None</td>\n",
       "      <td>None</td>\n",
       "      <td>None</td>\n",
       "      <td>None</td>\n",
       "      <td>None</td>\n",
       "      <td>None</td>\n",
       "      <td>419</td>\n",
       "    </tr>\n",
       "    <tr>\n",
       "      <th>511</th>\n",
       "      <td>None</td>\n",
       "      <td>None</td>\n",
       "      <td>None</td>\n",
       "      <td>None</td>\n",
       "      <td>None</td>\n",
       "      <td>None</td>\n",
       "      <td>None</td>\n",
       "      <td>None</td>\n",
       "      <td>None</td>\n",
       "      <td>None</td>\n",
       "      <td>487</td>\n",
       "    </tr>\n",
       "    <tr>\n",
       "      <th>512</th>\n",
       "      <td>None</td>\n",
       "      <td>None</td>\n",
       "      <td>None</td>\n",
       "      <td>None</td>\n",
       "      <td>None</td>\n",
       "      <td>None</td>\n",
       "      <td>None</td>\n",
       "      <td>None</td>\n",
       "      <td>None</td>\n",
       "      <td>None</td>\n",
       "      <td>462</td>\n",
       "    </tr>\n",
       "  </tbody>\n",
       "</table>\n",
       "<p>513 rows × 11 columns</p>\n",
       "</div>"
      ],
      "text/plain": [
       "    Value Index Label  Next Shape  Cost  Area Centroid Frame Bound Super\n",
       "0    None  None  None  None  None  None  None     None  None  None   156\n",
       "1    None  None  None  None  None  None  None     None  None  None    39\n",
       "2    None  None  None  None  None  None  None     None  None  None   156\n",
       "3    None  None  None  None  None  None  None     None  None  None     8\n",
       "4    None  None  None  None  None  None  None     None  None  None    91\n",
       "..    ...   ...   ...   ...   ...   ...   ...      ...   ...   ...   ...\n",
       "508  None  None  None  None  None  None  None     None  None  None   368\n",
       "509  None  None  None  None  None  None  None     None  None  None   392\n",
       "510  None  None  None  None  None  None  None     None  None  None   419\n",
       "511  None  None  None  None  None  None  None     None  None  None   487\n",
       "512  None  None  None  None  None  None  None     None  None  None   462\n",
       "\n",
       "[513 rows x 11 columns]"
      ]
     },
     "execution_count": 9,
     "metadata": {},
     "output_type": "execute_result"
    }
   ],
   "source": [
    "from trackdemo import utils\n",
    "utils.hierarchies_to_df(hier_arr)"
   ]
  },
  {
   "cell_type": "code",
   "execution_count": null,
   "metadata": {},
   "outputs": [],
   "source": [
    "(2,3) "
   ]
  },
  {
   "cell_type": "code",
   "execution_count": null,
   "metadata": {},
   "outputs": [],
   "source": [
    "\n",
    "def cluster(shape, coords):\n",
    "\n",
    "    EPS = 2 ** 0.5\n",
    "    MIN_SAMPLES = 5\n",
    "\n",
    "    cood_num = coords.shape[0]\n",
    "    labels = np.zeros(cood_num)\n",
    "    mask = -1 * np.ones(shape)\n",
    "    for c_index in range(cood_num):\n",
    "        x, y = map(int, coord)\n",
    "        if (x, y) not in mask: \n",
    "            mask[x, y] = set()\n",
    "        mask[x, y].add(c_index)\n",
    "    \n",
    "    queue = []\n",
    "    label = 0\n",
    "    for c_index in range(cood_num):\n",
    "        if labels[c_index] == -1 : queue.append(c_index)\n",
    "        while not queue.empty():\n",
    "            x, y = map(int, coords[queue.pop()])\n",
    "            delta = int(1 + EPS)\n",
    "            neighbors = set().union(*mask[x-delta:x+delta, y-delta:y+delta].flatten())\n",
    "            close_neighbors = set()\n",
    "            for coord in neighbors:\n",
    "                if np.sqrt(( x- coord[0]) ** 2 + (y - coord[1]) ** 2) <= EPS: \n",
    "                    close_neighbors.add(coord)\n",
    "\n",
    "            if close_neighbors > MIN_SAMPLES:\n",
    "                queue.extend(close_neighbors)\n",
    "\n",
    "            labels[c_index] = label\n",
    "\n",
    "        label += 1\n",
    "\n",
    "    return labels\n"
   ]
  },
  {
   "cell_type": "code",
   "execution_count": null,
   "metadata": {},
   "outputs": [],
   "source": []
  },
  {
   "cell_type": "code",
   "execution_count": null,
   "metadata": {},
   "outputs": [],
   "source": [
    "a = [1,2,3]\n",
    "a.extend(1,2,3)"
   ]
  },
  {
   "cell_type": "code",
   "execution_count": null,
   "metadata": {},
   "outputs": [],
   "source": [
    "a"
   ]
  },
  {
   "cell_type": "code",
   "execution_count": null,
   "metadata": {},
   "outputs": [],
   "source": [
    "import omnipose\n",
    "from cellpose_omni import io, transforms, models, core\n",
    "from omnipose.utils import normalize99\n",
    "import util\n",
    "from config import SEGEMENTATION_PARAMS_OMNIPOSE, SEGEMENTATION_PARAMS_CELLPOSE\n",
    "\n",
    "use_GPU = core.use_gpu()\n",
    "model = models.CellposeModel(gpu=use_GPU, model_type = \"bact_phase_omni\")\n",
    "\n",
    "imags = util.load(dir, io)\n",
    "params = SEGEMENTATION_PARAMS_OMNIPOSE\n",
    "\n",
    "# segementation model predict field (distance field + flow field), but does not compute mask\n",
    "params['compute_masks'] = True\n",
    "params['channels'] = [0,0]\n",
    "_, flows, _ = model.eval(imags, **params)"
   ]
  },
  {
   "cell_type": "code",
   "execution_count": null,
   "metadata": {},
   "outputs": [],
   "source": [
    "import numpy as np\n",
    "import matplotlib.pyplot as plt\n",
    "\n",
    "for hier in hier_arr:\n",
    "    for node in hier.root.subs:\n",
    "        if len(node.subs) > 0:\n",
    "            mask = np.zeros(node.shape)\n",
    "            mask[node.value[:, 0], node.value[:, 1]] = 1\n",
    "            plt.imshow(mask)\n",
    "            plt.show()"
   ]
  },
  {
   "cell_type": "code",
   "execution_count": null,
   "metadata": {},
   "outputs": [],
   "source": [
    "store_output(mask_arr, edge_df,dir)"
   ]
  },
  {
   "cell_type": "code",
   "execution_count": null,
   "metadata": {},
   "outputs": [],
   "source": [
    "import os\n",
    "from PIL import Image\n",
    "\n",
    "def store_output(mask_arr, edge_df, basedir):\n",
    "    # Create directory if it doesn't exist\n",
    "    if not os.path.exists(basedir):\n",
    "        os.makedirs(basedir)\n",
    "\n",
    "    # Save mask images\n",
    "    for idx, mask in enumerate(mask_arr):\n",
    "        mask_image = Image.fromarray(mask.astype(np.uint8), 'L')\n",
    "        mask_image_path = os.path.join(basedir, f'mask_{idx}.png')\n",
    "        mask_image.save(mask_image_path)\n",
    "\n",
    "    # Save DataFrame to CSV\n",
    "    edge_df.to_csv(os.path.join(basedir, 'edge_data.csv'), index=False)\n"
   ]
  },
  {
   "cell_type": "code",
   "execution_count": null,
   "metadata": {},
   "outputs": [],
   "source": [
    "from tracking import solve\n",
    "from util import format_output, store_output\n",
    "\n",
    "n, e, (rows, cols) = solve(hier_arr, total_num, cost_func_name = \"distance\", do_filter = True)\n",
    "edges = {(rows[i], cols[i]) for i in e}\n",
    "mask_arr, edge_df  = format_output(hier_arr, n, edges)"
   ]
  },
  {
   "cell_type": "code",
   "execution_count": null,
   "metadata": {},
   "outputs": [],
   "source": [
    "import tracking, core\n",
    "n, edges = core.run_tracking(hier_arr, total_num, \"overlap\")"
   ]
  },
  {
   "cell_type": "code",
   "execution_count": null,
   "metadata": {},
   "outputs": [],
   "source": [
    "edges"
   ]
  },
  {
   "cell_type": "code",
   "execution_count": null,
   "metadata": {},
   "outputs": [],
   "source": [
    "from tracking import solve\n",
    "    \n",
    "n, e, (rows, cols) = solve(hier_arr, total_num, \"overlap\")"
   ]
  },
  {
   "cell_type": "code",
   "execution_count": null,
   "metadata": {},
   "outputs": [],
   "source": [
    "edges = {(rows[i], cols[i]) for i in e}"
   ]
  },
  {
   "cell_type": "code",
   "execution_count": null,
   "metadata": {},
   "outputs": [],
   "source": [
    "edges"
   ]
  },
  {
   "cell_type": "code",
   "execution_count": null,
   "metadata": {},
   "outputs": [],
   "source": [
    "edge_df"
   ]
  },
  {
   "cell_type": "code",
   "execution_count": null,
   "metadata": {},
   "outputs": [],
   "source": [
    "import matplotlib.pyplot as plt\n",
    "import ncolor \n",
    "import numpy as np\n",
    "\n",
    "for mask in mask_arr:\n",
    "    #print(np.max(mask))\n",
    "    mask_image = Image.fromarray(mask.astype(np.uint8), 'L')\n",
    "    #print(np.max(mask_image))\n",
    "    plt.imshow(mask_image)\n",
    "    plt.show()\n",
    "\n",
    "    #break"
   ]
  },
  {
   "cell_type": "code",
   "execution_count": null,
   "metadata": {},
   "outputs": [],
   "source": [
    "from tracking import solve\n",
    "nodes, edges, weights = solve(hier_arr, seg_num = total_num, cost_func_name = \"overlap\")"
   ]
  },
  {
   "cell_type": "code",
   "execution_count": null,
   "metadata": {},
   "outputs": [],
   "source": []
  },
  {
   "cell_type": "markdown",
   "metadata": {},
   "source": []
  },
  {
   "cell_type": "code",
   "execution_count": null,
   "metadata": {},
   "outputs": [],
   "source": [
    "import numpy as np\n",
    "\n",
    "n = np.asarray([i for i, node in enumerate(nodes) if node.x > 0.5], dtype=int)\n",
    "e = np.asarray([i for i, edge in enumerate(edges) if edge.x > 0.5], dtype=int)"
   ]
  },
  {
   "cell_type": "code",
   "execution_count": null,
   "metadata": {},
   "outputs": [],
   "source": [
    "import matplotlib.pyplot as plt\n",
    "import numpy as np\n",
    "import ncolor\n",
    "\n",
    "\n",
    "for hier in hier_arr:\n",
    "    mask = np.zeros((300,300))\n",
    "    #print(len(hier.all_nodes()))\n",
    "    for node in hier.all_nodes():\n",
    "        if node.index in set(n):\n",
    "            coordinates = node.value\n",
    "            x_coords, y_coords = coordinates[:, 0], coordinates[:, 1]\n",
    "            # Set pixels at specified coordinates to 1\n",
    "            mask[y_coords, x_coords] = node.index\n",
    "\n",
    "    ncolor_masks = ncolor.label(mask)\n",
    "    plt.figure(figsize=(15,15))\n",
    "    plt.imshow(ncolor_masks)\n",
    "    plt.show()"
   ]
  },
  {
   "cell_type": "code",
   "execution_count": null,
   "metadata": {},
   "outputs": [],
   "source": [
    "total_num"
   ]
  },
  {
   "cell_type": "code",
   "execution_count": null,
   "metadata": {},
   "outputs": [],
   "source": [
    "import matplotlib.pyplot as plt\n",
    "import numpy as np\n",
    "\n",
    "for hier in hier_arr:\n",
    "    mask = np.zeros((3000,3000))\n",
    "    #print(len(hier.all_nodes()))\n",
    "    for node in hier.all_nodes():\n",
    "        coordinates = node.value\n",
    "        x_coords, y_coords = coordinates[:, 0], coordinates[:, 1]\n",
    "        # Set pixels at specified coordinates to 1\n",
    "        mask[y_coords, x_coords] = node.index\n",
    "\n",
    "    plt.imshow(mask)\n",
    "    plt.show()"
   ]
  },
  {
   "cell_type": "code",
   "execution_count": null,
   "metadata": {},
   "outputs": [],
   "source": []
  },
  {
   "cell_type": "code",
   "execution_count": null,
   "metadata": {},
   "outputs": [],
   "source": [
    "from collections import deque\n",
    "queue = deque([1])\n",
    "queue.extend([])\n",
    "\n"
   ]
  },
  {
   "cell_type": "code",
   "execution_count": null,
   "metadata": {},
   "outputs": [],
   "source": [
    "for element in queue:\n",
    "    print(element)"
   ]
  },
  {
   "cell_type": "code",
   "execution_count": null,
   "metadata": {},
   "outputs": [],
   "source": [
    "len((3,4,5,6,6))"
   ]
  },
  {
   "cell_type": "code",
   "execution_count": null,
   "metadata": {},
   "outputs": [],
   "source": [
    "from core import process, ModelEnum\n",
    "process(\"/Users/sherryyang/Documents/wiggins-lab/data/1024/xy5/phase\")"
   ]
  },
  {
   "cell_type": "code",
   "execution_count": null,
   "metadata": {},
   "outputs": [],
   "source": [
    "from scipy.sparse import coo_matrix\n",
    "\n",
    "# Example COO matrices with different coordinate ranges\n",
    "matrix_A = coo_matrix([[1, 2], [0, 3], [-100, 2]])  # Shape: (2, 2)\n",
    "matrix_B = coo_matrix([[1, 0], [-100, 100], [2, 2]])  # Shape: (3, 2)\n",
    "\n",
    "matrix_A.shape\n",
    "# Perform multiplication\n",
    "result = matrix_A.dot(matrix_B)\n",
    "# The resulting matrix's coordinate range will encompass the union of the coordinate ranges\n",
    "print(\"Resulting matrix shape:\", result.shape)\n",
    "print(\"Resulting matrix (in COO format):\\n\", result)\n"
   ]
  },
  {
   "cell_type": "code",
   "execution_count": null,
   "metadata": {},
   "outputs": [],
   "source": [
    "\n",
    "matrix_B.shape"
   ]
  },
  {
   "cell_type": "code",
   "execution_count": null,
   "metadata": {},
   "outputs": [],
   "source": [
    "from scipy.sparse import coo_matrix\n",
    "\n",
    "# Example data for mask 1 and mask 2 (Replace this with your actual data)\n",
    "mask_data_1 = [(0, 0, 1), (1, 1, 1)]  # Example data: (row_index, col_index, value)\n",
    "mask_data_2 = [(0, 0, 1), (2, 2, 1)]\n",
    "\n",
    "# Create sparse matrices for masks 1 and 2\n",
    "mask_1 = coo_matrix((data, (row_indices, col_indices)), shape=(mask_shape_1[0], mask_shape_1[1]))\n",
    "mask_2 = coo_matrix((data, (row_indices, col_indices)), shape=(mask_shape_2[0], mask_shape_2[1]))\n",
    "\n",
    "# Calculate overlap\n",
    "overlap = (mask_1.multiply(mask_2)).sum()\n"
   ]
  },
  {
   "cell_type": "code",
   "execution_count": null,
   "metadata": {},
   "outputs": [],
   "source": [
    "from scipy.sparse import csr_matrix\n",
    "import numpy as np\n",
    "\n",
    "# Function to create a sparse matrix representation of the mask\n",
    "def create_sparse_mask(mask):\n",
    "    # Get the non-zero indices of the mask\n",
    "    nonzero_indices = np.transpose(np.nonzero(mask))\n",
    "    \n",
    "    # Extract row and column indices\n",
    "    row_indices, col_indices = nonzero_indices[:, 0], nonzero_indices[:, 1]\n",
    "    \n",
    "    # Create a sparse matrix using Compressed Sparse Row (CSR) format\n",
    "    sparse_mask = csr_matrix((np.ones(len(row_indices)), (row_indices, col_indices)), shape=mask.shape)\n",
    "    \n",
    "    return sparse_mask\n",
    "\n",
    "# Function to calculate the overlap between two sparse masks\n",
    "def calculate_overlap(mask1, mask2):\n",
    "    # Multiply the sparse matrices to find the intersection\n",
    "    intersection = mask1.multiply(mask2)\n",
    "    \n",
    "    # Calculate the number of overlapping pixels\n",
    "    overlap_count = intersection.sum()\n",
    "    \n",
    "    return overlap_count\n",
    "\n",
    "# Example masks (replace these with your actual masks)\n",
    "mask1 = np.array([\n",
    "    [1, 0, 1],\n",
    "    [0, 0, 0],\n",
    "    [0, 0, 0]\n",
    "])\n",
    "\n",
    "mask2 = np.array([\n",
    "    [1, 0, 1],\n",
    "    [0, 0, 0],\n",
    "    [0, 0, 0]\n",
    "])\n",
    "\n",
    "# Create sparse representations of masks\n",
    "sparse_mask1 = create_sparse_mask(mask1)\n",
    "sparse_mask2 = create_sparse_mask(mask2)\n",
    "\n",
    "# Calculate overlap between the masks\n",
    "overlap = calculate_overlap(sparse_mask1, sparse_mask2)\n",
    "print(\"Overlap between the masks:\", overlap)\n"
   ]
  },
  {
   "cell_type": "code",
   "execution_count": null,
   "metadata": {},
   "outputs": [],
   "source": [
    "[2,3,4] == [3,4,2]"
   ]
  },
  {
   "cell_type": "code",
   "execution_count": null,
   "metadata": {},
   "outputs": [],
   "source": [
    "set = ()"
   ]
  },
  {
   "cell_type": "code",
   "execution_count": null,
   "metadata": {},
   "outputs": [],
   "source": [
    "sub_coords = np.array([[1, 2], [2, 3], [2, 4], [1, 3]])\n",
    "bound = np.vstack((np.min(sub_coords, axis=0), np.max(sub_coords, axis=0)))\n"
   ]
  },
  {
   "cell_type": "code",
   "execution_count": null,
   "metadata": {},
   "outputs": [],
   "source": [
    "sub_coords = np.array([[-10, -1], [-10, -2], [-2, -4], [-1, -100]])\n",
    "bound2 = np.vstack((np.min(sub_coords, axis=0), np.max(sub_coords, axis=0)))"
   ]
  },
  {
   "cell_type": "code",
   "execution_count": null,
   "metadata": {},
   "outputs": [],
   "source": []
  },
  {
   "cell_type": "code",
   "execution_count": null,
   "metadata": {},
   "outputs": [],
   "source": [
    "bound"
   ]
  },
  {
   "cell_type": "code",
   "execution_count": null,
   "metadata": {},
   "outputs": [],
   "source": [
    "bound2"
   ]
  },
  {
   "cell_type": "code",
   "execution_count": null,
   "metadata": {},
   "outputs": [],
   "source": [
    "def check_overlap(box1, box2):\n",
    "    # Check for overlap in each dimension\n",
    "    for i in range(len(box1)):\n",
    "        # Check if the boxes overlap in the ith dimension\n",
    "        if box1[i][1] < box2[i][0] or box1[i][0] > box2[i][1]:\n",
    "            return False  # No overlap in this dimension\n",
    "    \n",
    "    return True  # Overlap in all dimensions"
   ]
  },
  {
   "cell_type": "code",
   "execution_count": null,
   "metadata": {},
   "outputs": [],
   "source": [
    "check_overlap(bound, bound2)"
   ]
  },
  {
   "cell_type": "code",
   "execution_count": null,
   "metadata": {},
   "outputs": [],
   "source": [
    "set(sub_coords)"
   ]
  },
  {
   "cell_type": "code",
   "execution_count": null,
   "metadata": {},
   "outputs": [],
   "source": [
    "from mip import Model, CBC"
   ]
  },
  {
   "cell_type": "code",
   "execution_count": null,
   "metadata": {},
   "outputs": [],
   "source": [
    "import gurobipy as gp\n",
    "from gurobipy import GRB"
   ]
  },
  {
   "cell_type": "code",
   "execution_count": null,
   "metadata": {},
   "outputs": [],
   "source": []
  }
 ],
 "metadata": {
  "kernelspec": {
   "display_name": "omnipose-track",
   "language": "python",
   "name": "python3"
  },
  "language_info": {
   "codemirror_mode": {
    "name": "ipython",
    "version": 3
   },
   "file_extension": ".py",
   "mimetype": "text/x-python",
   "name": "python",
   "nbconvert_exporter": "python",
   "pygments_lexer": "ipython3",
   "version": "3.10.12"
  },
  "orig_nbformat": 4
 },
 "nbformat": 4,
 "nbformat_minor": 2
}
